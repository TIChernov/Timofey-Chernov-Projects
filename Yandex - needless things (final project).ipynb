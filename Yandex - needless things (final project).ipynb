{
 "cells": [
  {
   "cell_type": "markdown",
   "id": "36cc47f0",
   "metadata": {},
   "source": [
    "# Ненужные вещи - сегментация пользователей"
   ]
  },
  {
   "cell_type": "markdown",
   "id": "f70e2800",
   "metadata": {},
   "source": [
    "**Задача:**\n",
    "- **Исследовать поведение пользователей мобильного приложения \"Ненужные вещи\"**\n",
    "- **Провести сегментацию пользователей по поведению и сравнить их конверсию и retention rate**\n",
    "- **Проверить гипотезы**"
   ]
  },
  {
   "cell_type": "markdown",
   "id": "47329808",
   "metadata": {},
   "source": [
    "**План:**  \n",
    "  \n",
    "**1. Загразка данных и библиотек**  \n",
    "**2. Предобработка данных**  \n",
    "**3. EDA**  \n",
    "    3.1 Retention rate  \n",
    "    3.2 Время, проведённое в приложении  \n",
    "    3.3 Частота действий  \n",
    "    3.4 Конверсия в целевое действие — просмотр контактов.  \n",
    "**4. Сегментация пользователей**  \n",
    "    4.1 Выделение метрик - источник, время и день захода в приложение  \n",
    "    4.2 Кластеризация  \n",
    "**5. Проверка гипотез**\n",
    "    5.1 "
   ]
  },
  {
   "cell_type": "markdown",
   "id": "fa47e56a",
   "metadata": {},
   "source": [
    "## Загрузка библиотек и данных"
   ]
  },
  {
   "cell_type": "code",
   "execution_count": 1,
   "id": "acbfa838",
   "metadata": {},
   "outputs": [],
   "source": [
    "import pandas as pd\n",
    "import numpy as np\n",
    "import math\n",
    "import scipy.stats as st\n",
    "import matplotlib.pyplot as plt\n",
    "import seaborn as sns\n",
    "import re\n",
    "from datetime import datetime, timedelta, time\n",
    "from sklearn.model_selection import train_test_split\n",
    "from sklearn.preprocessing import StandardScaler\n",
    "from scipy.cluster.hierarchy import dendrogram, linkage\n",
    "from sklearn.cluster import KMeans"
   ]
  },
  {
   "cell_type": "code",
   "execution_count": 2,
   "id": "f7ad4a8b",
   "metadata": {},
   "outputs": [],
   "source": [
    "events = pd.read_csv('https://code.s3.yandex.net/datasets/mobile_dataset.csv')"
   ]
  },
  {
   "cell_type": "code",
   "execution_count": 3,
   "id": "401f3a48",
   "metadata": {},
   "outputs": [],
   "source": [
    "users = pd.read_csv('https://code.s3.yandex.net/datasets/mobile_soures.csv')"
   ]
  },
  {
   "cell_type": "markdown",
   "id": "afcbac67",
   "metadata": {},
   "source": [
    "## Предобработка данных"
   ]
  },
  {
   "cell_type": "markdown",
   "id": "5fc8f9a2",
   "metadata": {},
   "source": [
    "### События"
   ]
  },
  {
   "cell_type": "code",
   "execution_count": 4,
   "id": "179fdb42",
   "metadata": {},
   "outputs": [
    {
     "name": "stdout",
     "output_type": "stream",
     "text": [
      "<class 'pandas.core.frame.DataFrame'>\n",
      "RangeIndex: 74197 entries, 0 to 74196\n",
      "Data columns (total 3 columns):\n",
      " #   Column      Non-Null Count  Dtype \n",
      "---  ------      --------------  ----- \n",
      " 0   event.time  74197 non-null  object\n",
      " 1   event.name  74197 non-null  object\n",
      " 2   user.id     74197 non-null  object\n",
      "dtypes: object(3)\n",
      "memory usage: 1.7+ MB\n"
     ]
    }
   ],
   "source": [
    "events.info()"
   ]
  },
  {
   "cell_type": "code",
   "execution_count": 5,
   "id": "15cce537",
   "metadata": {},
   "outputs": [
    {
     "data": {
      "text/html": [
       "<div>\n",
       "<style scoped>\n",
       "    .dataframe tbody tr th:only-of-type {\n",
       "        vertical-align: middle;\n",
       "    }\n",
       "\n",
       "    .dataframe tbody tr th {\n",
       "        vertical-align: top;\n",
       "    }\n",
       "\n",
       "    .dataframe thead th {\n",
       "        text-align: right;\n",
       "    }\n",
       "</style>\n",
       "<table border=\"1\" class=\"dataframe\">\n",
       "  <thead>\n",
       "    <tr style=\"text-align: right;\">\n",
       "      <th></th>\n",
       "      <th>event.time</th>\n",
       "      <th>event.name</th>\n",
       "      <th>user.id</th>\n",
       "    </tr>\n",
       "  </thead>\n",
       "  <tbody>\n",
       "    <tr>\n",
       "      <th>0</th>\n",
       "      <td>2019-10-07 00:00:00.431357</td>\n",
       "      <td>advert_open</td>\n",
       "      <td>020292ab-89bc-4156-9acf-68bc2783f894</td>\n",
       "    </tr>\n",
       "    <tr>\n",
       "      <th>1</th>\n",
       "      <td>2019-10-07 00:00:01.236320</td>\n",
       "      <td>tips_show</td>\n",
       "      <td>020292ab-89bc-4156-9acf-68bc2783f894</td>\n",
       "    </tr>\n",
       "    <tr>\n",
       "      <th>2</th>\n",
       "      <td>2019-10-07 00:00:02.245341</td>\n",
       "      <td>tips_show</td>\n",
       "      <td>cf7eda61-9349-469f-ac27-e5b6f5ec475c</td>\n",
       "    </tr>\n",
       "    <tr>\n",
       "      <th>3</th>\n",
       "      <td>2019-10-07 00:00:07.039334</td>\n",
       "      <td>tips_show</td>\n",
       "      <td>020292ab-89bc-4156-9acf-68bc2783f894</td>\n",
       "    </tr>\n",
       "    <tr>\n",
       "      <th>4</th>\n",
       "      <td>2019-10-07 00:00:56.319813</td>\n",
       "      <td>advert_open</td>\n",
       "      <td>cf7eda61-9349-469f-ac27-e5b6f5ec475c</td>\n",
       "    </tr>\n",
       "  </tbody>\n",
       "</table>\n",
       "</div>"
      ],
      "text/plain": [
       "                   event.time   event.name  \\\n",
       "0  2019-10-07 00:00:00.431357  advert_open   \n",
       "1  2019-10-07 00:00:01.236320    tips_show   \n",
       "2  2019-10-07 00:00:02.245341    tips_show   \n",
       "3  2019-10-07 00:00:07.039334    tips_show   \n",
       "4  2019-10-07 00:00:56.319813  advert_open   \n",
       "\n",
       "                                user.id  \n",
       "0  020292ab-89bc-4156-9acf-68bc2783f894  \n",
       "1  020292ab-89bc-4156-9acf-68bc2783f894  \n",
       "2  cf7eda61-9349-469f-ac27-e5b6f5ec475c  \n",
       "3  020292ab-89bc-4156-9acf-68bc2783f894  \n",
       "4  cf7eda61-9349-469f-ac27-e5b6f5ec475c  "
      ]
     },
     "execution_count": 5,
     "metadata": {},
     "output_type": "execute_result"
    }
   ],
   "source": [
    "events.head()"
   ]
  },
  {
   "cell_type": "markdown",
   "id": "06f2ced0",
   "metadata": {},
   "source": [
    "**В датасете 74197 событий. Пропусков похоже нет. Надо перевести время в нужный формат. В названиях точки лучше заменить на нижнее подчеркивание**"
   ]
  },
  {
   "cell_type": "code",
   "execution_count": 6,
   "id": "4c012b0b",
   "metadata": {},
   "outputs": [],
   "source": [
    "#Названия столбцов в змеиный регистр\n",
    "events.columns = ['event_time', 'event_name', 'user_id']"
   ]
  },
  {
   "cell_type": "code",
   "execution_count": 7,
   "id": "18a34d9b",
   "metadata": {},
   "outputs": [],
   "source": [
    "#Тип даты в datetime\n",
    "events['event_time'] = pd.to_datetime(events['event_time'], format='%Y-%m-%d %H:%M:%S').dt.round('1S')"
   ]
  },
  {
   "cell_type": "code",
   "execution_count": 8,
   "id": "93eef9bc",
   "metadata": {},
   "outputs": [
    {
     "data": {
      "text/plain": [
       "1118"
      ]
     },
     "execution_count": 8,
     "metadata": {},
     "output_type": "execute_result"
    }
   ],
   "source": [
    "events.duplicated().sum()"
   ]
  },
  {
   "cell_type": "markdown",
   "id": "6db94ae6",
   "metadata": {},
   "source": [
    "**Удалим дубликаты**"
   ]
  },
  {
   "cell_type": "code",
   "execution_count": 9,
   "id": "5c52b004",
   "metadata": {},
   "outputs": [
    {
     "data": {
      "text/plain": [
       "0"
      ]
     },
     "execution_count": 9,
     "metadata": {},
     "output_type": "execute_result"
    }
   ],
   "source": [
    "events = events.drop_duplicates()\n",
    "events.duplicated().sum()"
   ]
  },
  {
   "cell_type": "code",
   "execution_count": 10,
   "id": "4e7c6299",
   "metadata": {},
   "outputs": [
    {
     "data": {
      "text/plain": [
       "event_time    0\n",
       "event_name    0\n",
       "user_id       0\n",
       "dtype: int64"
      ]
     },
     "execution_count": 10,
     "metadata": {},
     "output_type": "execute_result"
    }
   ],
   "source": [
    "events.isna().sum()"
   ]
  },
  {
   "cell_type": "markdown",
   "id": "18364b92",
   "metadata": {},
   "source": [
    "**Пропусков нет**"
   ]
  },
  {
   "cell_type": "code",
   "execution_count": 11,
   "id": "5ab663d8",
   "metadata": {},
   "outputs": [
    {
     "data": {
      "text/plain": [
       "array(['advert_open', 'tips_show', 'map', 'contacts_show', 'search_4',\n",
       "       'search_5', 'tips_click', 'photos_show', 'search_1', 'search_2',\n",
       "       'search_3', 'favorites_add', 'contacts_call', 'search_6',\n",
       "       'search_7', 'show_contacts'], dtype=object)"
      ]
     },
     "execution_count": 11,
     "metadata": {},
     "output_type": "execute_result"
    }
   ],
   "source": [
    "# Типы событий\n",
    "events['event_name'].unique()"
   ]
  },
  {
   "cell_type": "markdown",
   "id": "2bedec85",
   "metadata": {},
   "source": [
    "**Объединить дублирующие типы событий: поиск и просмотр контактов**"
   ]
  },
  {
   "cell_type": "code",
   "execution_count": 12,
   "id": "5849925b",
   "metadata": {},
   "outputs": [],
   "source": [
    "# Объединить типы показа контактов\n",
    "events['event_name'] = events['event_name'].replace('show_contacts', 'contacts_show')"
   ]
  },
  {
   "cell_type": "code",
   "execution_count": 13,
   "id": "eafad1e7",
   "metadata": {
    "scrolled": true
   },
   "outputs": [],
   "source": [
    "# Cписок типов поиска\n",
    "search = ['search_1', 'search_2', 'search_3', 'search_4', 'search_5', 'search_6', 'search_7']\n",
    "\n",
    "# Объединить типы поиска\n",
    "events['event_name'] = events['event_name'].replace(search, 'search')"
   ]
  },
  {
   "cell_type": "code",
   "execution_count": 14,
   "id": "5fd1fcc5",
   "metadata": {},
   "outputs": [
    {
     "data": {
      "text/plain": [
       "array(['advert_open', 'tips_show', 'map', 'contacts_show', 'search',\n",
       "       'tips_click', 'photos_show', 'favorites_add', 'contacts_call'],\n",
       "      dtype=object)"
      ]
     },
     "execution_count": 14,
     "metadata": {},
     "output_type": "execute_result"
    }
   ],
   "source": [
    "events['event_name'].unique()"
   ]
  },
  {
   "cell_type": "code",
   "execution_count": 15,
   "id": "294101c7",
   "metadata": {},
   "outputs": [],
   "source": [
    "# Формат date для даты\n",
    "events['date'] = events['event_time'].dt.date"
   ]
  },
  {
   "cell_type": "code",
   "execution_count": 16,
   "id": "f0e2023e",
   "metadata": {},
   "outputs": [
    {
     "name": "stdout",
     "output_type": "stream",
     "text": [
      "2019-10-07\n",
      "2019-11-03\n"
     ]
    }
   ],
   "source": [
    "print (events['date'].min())\n",
    "print (events['date'].max())"
   ]
  },
  {
   "cell_type": "markdown",
   "id": "536aae09",
   "metadata": {},
   "source": [
    "**Есть данные за 4 недели: с 7 октября по 3 ноября**"
   ]
  },
  {
   "cell_type": "markdown",
   "id": "c42992f2",
   "metadata": {},
   "source": [
    "### Пользователи"
   ]
  },
  {
   "cell_type": "code",
   "execution_count": 17,
   "id": "e27f5cfe",
   "metadata": {},
   "outputs": [
    {
     "name": "stdout",
     "output_type": "stream",
     "text": [
      "<class 'pandas.core.frame.DataFrame'>\n",
      "RangeIndex: 4293 entries, 0 to 4292\n",
      "Data columns (total 2 columns):\n",
      " #   Column  Non-Null Count  Dtype \n",
      "---  ------  --------------  ----- \n",
      " 0   userId  4293 non-null   object\n",
      " 1   source  4293 non-null   object\n",
      "dtypes: object(2)\n",
      "memory usage: 67.2+ KB\n"
     ]
    }
   ],
   "source": [
    "users.info()"
   ]
  },
  {
   "cell_type": "markdown",
   "id": "4cedc6e2",
   "metadata": {},
   "source": [
    "**4293 пользователя. Приведем user_id к тому же названию, как в events**"
   ]
  },
  {
   "cell_type": "code",
   "execution_count": 19,
   "id": "f6efac1a",
   "metadata": {},
   "outputs": [],
   "source": [
    "users.columns=['user_id', 'source']"
   ]
  },
  {
   "cell_type": "code",
   "execution_count": 20,
   "id": "4bc23a12",
   "metadata": {},
   "outputs": [
    {
     "data": {
      "text/plain": [
       "array(['other', 'yandex', 'google'], dtype=object)"
      ]
     },
     "execution_count": 20,
     "metadata": {},
     "output_type": "execute_result"
    }
   ],
   "source": [
    "users['source'].unique()"
   ]
  },
  {
   "cell_type": "markdown",
   "id": "d193c0e2",
   "metadata": {},
   "source": [
    "**Датасет содержит ID участников и их источник - яндекс, гугл или другое**"
   ]
  },
  {
   "cell_type": "code",
   "execution_count": 21,
   "id": "e61f94f1",
   "metadata": {},
   "outputs": [
    {
     "data": {
      "text/plain": [
       "0"
      ]
     },
     "execution_count": 21,
     "metadata": {},
     "output_type": "execute_result"
    }
   ],
   "source": [
    "users.duplicated().sum()"
   ]
  },
  {
   "cell_type": "code",
   "execution_count": 22,
   "id": "3c7ff25d",
   "metadata": {},
   "outputs": [
    {
     "data": {
      "text/plain": [
       "user_id    0\n",
       "source     0\n",
       "dtype: int64"
      ]
     },
     "execution_count": 22,
     "metadata": {},
     "output_type": "execute_result"
    }
   ],
   "source": [
    "users.isna().sum()"
   ]
  },
  {
   "cell_type": "markdown",
   "id": "28dd5a13",
   "metadata": {},
   "source": [
    "**Дубликатов нет, пропусков нет**"
   ]
  },
  {
   "cell_type": "markdown",
   "id": "cb5bec1f",
   "metadata": {},
   "source": [
    "## EDA"
   ]
  },
  {
   "cell_type": "markdown",
   "id": "db36634c",
   "metadata": {},
   "source": [
    "### Выделение сессий"
   ]
  },
  {
   "cell_type": "code",
   "execution_count": 23,
   "id": "d72c4004",
   "metadata": {},
   "outputs": [],
   "source": [
    "# Функция для индексации сессий\n",
    "# Принимает журнал событий\n",
    "# Возвращает датафрейм с порядковым номером сессии, временем ее начала и конца, числом событий и id пользователя\n",
    "\n",
    "def get_sessions(events):\n",
    "    \n",
    "    # Датафрейм сортированный по пользователям и времени события\n",
    "    sessions_raw = (\n",
    "        events.sort_values(['user_id', 'event_time'])\n",
    "        .loc[:, ['user_id', 'event_time']]\n",
    "        .reset_index(drop=True)\n",
    "    )\n",
    "    \n",
    "    # Назначает событиям сквозной порядковый номер сессии.\n",
    "    # Увеличивает номер на 1 если меняется пользователь или если время между событиями > 30 минут\n",
    "    sessions_raw['session'] = 1\n",
    "    for i in range(1, len(sessions_raw)):\n",
    "        if sessions_raw.loc[i, 'user_id'] == sessions_raw.loc[i-1, 'user_id']:\n",
    "            if (sessions_raw.loc[i,'event_time'] - sessions_raw.loc[i-1, 'event_time']) < timedelta(minutes=30):\n",
    "                sessions_raw.loc[i, 'session'] = sessions_raw.loc[i-1, 'session']\n",
    "            else:\n",
    "                sessions_raw.loc[i, 'session'] = sessions_raw.loc[i-1, 'session'] + 1\n",
    "        else:\n",
    "            sessions_raw.loc[i, 'session'] = sessions_raw.loc[i-1, 'session'] + 1\n",
    "            \n",
    "    sessions = sessions_raw.groupby('session').agg({'user_id':'first', 'event_time':['min', 'max', 'count']})\n",
    "    sessions.columns = ['user_id','start', 'end', 'event_count']\n",
    "    \n",
    "    return sessions"
   ]
  },
  {
   "cell_type": "code",
   "execution_count": 24,
   "id": "7904bf93",
   "metadata": {
    "scrolled": true
   },
   "outputs": [],
   "source": [
    "sessions = get_sessions(events)"
   ]
  },
  {
   "cell_type": "markdown",
   "id": "cb33769b",
   "metadata": {},
   "source": [
    "**Длительность сессий**"
   ]
  },
  {
   "cell_type": "code",
   "execution_count": 25,
   "id": "ed3bbead",
   "metadata": {},
   "outputs": [
    {
     "data": {
      "text/plain": [
       "count    10369.000000\n",
       "mean        12.873681\n",
       "std         19.842137\n",
       "min          0.000000\n",
       "25%          0.350000\n",
       "50%          5.583333\n",
       "75%         17.416667\n",
       "max        321.966667\n",
       "Name: duration, dtype: float64"
      ]
     },
     "execution_count": 25,
     "metadata": {},
     "output_type": "execute_result"
    }
   ],
   "source": [
    "# Получаем продолжительность сессии в минутах\n",
    "sessions['duration'] = (sessions['end'] - sessions['start']).dt.seconds / 60\n",
    "sessions['duration'].describe()"
   ]
  },
  {
   "cell_type": "markdown",
   "id": "038419f5",
   "metadata": {},
   "source": [
    "**Есть сессии продолжительностью 0 минут - их логично удалить**"
   ]
  },
  {
   "cell_type": "code",
   "execution_count": 26,
   "id": "258440c6",
   "metadata": {},
   "outputs": [
    {
     "name": "stdout",
     "output_type": "stream",
     "text": [
      "<class 'pandas.core.frame.DataFrame'>\n",
      "Int64Index: 8227 entries, 1 to 10369\n",
      "Data columns (total 5 columns):\n",
      " #   Column       Non-Null Count  Dtype         \n",
      "---  ------       --------------  -----         \n",
      " 0   user_id      8227 non-null   object        \n",
      " 1   start        8227 non-null   datetime64[ns]\n",
      " 2   end          8227 non-null   datetime64[ns]\n",
      " 3   event_count  8227 non-null   int64         \n",
      " 4   duration     8227 non-null   float64       \n",
      "dtypes: datetime64[ns](2), float64(1), int64(1), object(1)\n",
      "memory usage: 385.6+ KB\n"
     ]
    }
   ],
   "source": [
    "sessions = sessions.query('duration != 0')\n",
    "sessions.info()"
   ]
  },
  {
   "cell_type": "code",
   "execution_count": 27,
   "id": "0d19d3bc",
   "metadata": {},
   "outputs": [
    {
     "data": {
      "text/html": [
       "<div>\n",
       "<style scoped>\n",
       "    .dataframe tbody tr th:only-of-type {\n",
       "        vertical-align: middle;\n",
       "    }\n",
       "\n",
       "    .dataframe tbody tr th {\n",
       "        vertical-align: top;\n",
       "    }\n",
       "\n",
       "    .dataframe thead th {\n",
       "        text-align: right;\n",
       "    }\n",
       "</style>\n",
       "<table border=\"1\" class=\"dataframe\">\n",
       "  <thead>\n",
       "    <tr style=\"text-align: right;\">\n",
       "      <th></th>\n",
       "      <th>event_count</th>\n",
       "      <th>duration</th>\n",
       "    </tr>\n",
       "  </thead>\n",
       "  <tbody>\n",
       "    <tr>\n",
       "      <th>count</th>\n",
       "      <td>8227.000000</td>\n",
       "      <td>8227.000000</td>\n",
       "    </tr>\n",
       "    <tr>\n",
       "      <th>mean</th>\n",
       "      <td>8.622341</td>\n",
       "      <td>16.225501</td>\n",
       "    </tr>\n",
       "    <tr>\n",
       "      <th>std</th>\n",
       "      <td>9.984571</td>\n",
       "      <td>21.019957</td>\n",
       "    </tr>\n",
       "    <tr>\n",
       "      <th>min</th>\n",
       "      <td>2.000000</td>\n",
       "      <td>0.016667</td>\n",
       "    </tr>\n",
       "    <tr>\n",
       "      <th>25%</th>\n",
       "      <td>3.000000</td>\n",
       "      <td>3.166667</td>\n",
       "    </tr>\n",
       "    <tr>\n",
       "      <th>50%</th>\n",
       "      <td>5.000000</td>\n",
       "      <td>9.300000</td>\n",
       "    </tr>\n",
       "    <tr>\n",
       "      <th>75%</th>\n",
       "      <td>10.000000</td>\n",
       "      <td>21.591667</td>\n",
       "    </tr>\n",
       "    <tr>\n",
       "      <th>max</th>\n",
       "      <td>149.000000</td>\n",
       "      <td>321.966667</td>\n",
       "    </tr>\n",
       "  </tbody>\n",
       "</table>\n",
       "</div>"
      ],
      "text/plain": [
       "       event_count     duration\n",
       "count  8227.000000  8227.000000\n",
       "mean      8.622341    16.225501\n",
       "std       9.984571    21.019957\n",
       "min       2.000000     0.016667\n",
       "25%       3.000000     3.166667\n",
       "50%       5.000000     9.300000\n",
       "75%      10.000000    21.591667\n",
       "max     149.000000   321.966667"
      ]
     },
     "execution_count": 27,
     "metadata": {},
     "output_type": "execute_result"
    }
   ],
   "source": [
    "sessions.describe()"
   ]
  },
  {
   "cell_type": "markdown",
   "id": "07199001",
   "metadata": {},
   "source": [
    "**Выводы:**"
   ]
  },
  {
   "cell_type": "markdown",
   "id": "920b9bd1",
   "metadata": {},
   "source": [
    "- **Выделено 8227 сессий**\n",
    "- **В среднем в сессии около 9 действий**\n",
    "- **Средняя продолжительность сессии - 16 минут, медианная - 9 минут**\n",
    "- **Редкие сессии достигают 5 часов**"
   ]
  },
  {
   "cell_type": "markdown",
   "id": "4c988427",
   "metadata": {},
   "source": [
    "### Частота событий"
   ]
  },
  {
   "cell_type": "code",
   "execution_count": 28,
   "id": "61ccb2b4",
   "metadata": {
    "scrolled": true
   },
   "outputs": [
    {
     "data": {
      "image/png": "[encoded data removed]",
      "text/plain": [
       "<Figure size 720x360 with 1 Axes>"
      ]
     },
     "metadata": {
      "needs_background": "light"
     },
     "output_type": "display_data"
    }
   ],
   "source": [
    "# Число событий по дням со скользящим средним в 7 дней\n",
    "\n",
    "plt.figure(figsize=(10,5))\n",
    "plt.plot(events.groupby('date')['event_name'].count().rolling(7).mean())\n",
    "plt.title('Частота событий по дням', size=16)\n",
    "plt.ylim(2000,3500)\n",
    "plt.xlabel('Дата', size=14)\n",
    "plt.ylabel('Число событий', size=14)\n",
    "plt.show()"
   ]
  },
  {
   "cell_type": "markdown",
   "id": "58f50662",
   "metadata": {},
   "source": [
    "**В течении времени исследования имеется тренд на увеличение**"
   ]
  },
  {
   "cell_type": "code",
   "execution_count": 29,
   "id": "4009959a",
   "metadata": {},
   "outputs": [
    {
     "data": {
      "image/png": "[encoded data removed]",
      "text/plain": [
       "<Figure size 720x360 with 1 Axes>"
      ]
     },
     "metadata": {
      "needs_background": "light"
     },
     "output_type": "display_data"
    }
   ],
   "source": [
    "#Сумма событий по дням недели, деленая на 4 (число недель)\n",
    "weekday_events = (events.groupby(events['event_time'].dt.weekday)\n",
    "                  .agg({'event_name':'count'})\n",
    "                  .rename(columns={'event_name':'event_count'})\n",
    "                  / 4\n",
    "                 )\n",
    "\n",
    "# График - среднее число событий по дням недели\n",
    "plt.figure(figsize=(10,5))\n",
    "plt.bar(x=weekday_events.index, height=weekday_events['event_count']) \n",
    "plt.title('Частота событий по дням недели', size=16)\n",
    "plt.xlabel('День недели', size=14)\n",
    "plt.ylabel('Число событий', size=14)\n",
    "plt.ylim(2000,3500)\n",
    "plt.show()"
   ]
  },
  {
   "cell_type": "markdown",
   "id": "e1c31ef1",
   "metadata": {},
   "source": [
    "**В среднем активность пользователей выше всего в понедельник, снижается в течении недели, ниже всего - в субботу**"
   ]
  },
  {
   "cell_type": "code",
   "execution_count": 30,
   "id": "540d964c",
   "metadata": {},
   "outputs": [],
   "source": [
    "# Выделение времени события с округлением до часа\n",
    "\n",
    "events['hour'] = events['event_time'].dt.floor('H').dt.hour"
   ]
  },
  {
   "cell_type": "code",
   "execution_count": 31,
   "id": "81d8330f",
   "metadata": {},
   "outputs": [
    {
     "data": {
      "image/png": "[encoded data removed]",
      "text/plain": [
       "<Figure size 720x360 with 1 Axes>"
      ]
     },
     "metadata": {
      "needs_background": "light"
     },
     "output_type": "display_data"
    }
   ],
   "source": [
    "# Число событий по часам в сутки\n",
    "\n",
    "plt.figure(figsize=(10,5))\n",
    "plt.plot(events.groupby('hour')['event_name'].count()/4)\n",
    "plt.title('Частота событий по часам', size=16)\n",
    "plt.xlabel('Час', size=14)\n",
    "plt.ylabel('Число событий', size=14)\n",
    "plt.show()"
   ]
  },
  {
   "cell_type": "markdown",
   "id": "28bc06bb",
   "metadata": {},
   "source": [
    "**Больше всего событий совершают в районе обеда (14-16 часов) и вечером (20-21 час).  \n",
    "Локальный минимум - 17-19 часов (очевидно, время дороги с работы домой)**"
   ]
  },
  {
   "cell_type": "markdown",
   "id": "27258639",
   "metadata": {},
   "source": [
    "### Динамика привлечения пользователей"
   ]
  },
  {
   "cell_type": "code",
   "execution_count": 32,
   "id": "bfe13ce9",
   "metadata": {},
   "outputs": [],
   "source": [
    "# Профили пользователей с временем первой сессии и источниками посещений\n",
    "\n",
    "profiles = users.merge(sessions.groupby('user_id')['start'].min().reset_index(), on='user_id')\n",
    "profiles = profiles.rename(columns={'start':'first_session'})"
   ]
  },
  {
   "cell_type": "code",
   "execution_count": 33,
   "id": "541033fa",
   "metadata": {},
   "outputs": [],
   "source": [
    "# Дата первой сессии\n",
    "profiles['first_date'] = profiles['first_session'].dt.date"
   ]
  },
  {
   "cell_type": "code",
   "execution_count": 34,
   "id": "12efd7c2",
   "metadata": {},
   "outputs": [
    {
     "data": {
      "text/html": [
       "<div>\n",
       "<style scoped>\n",
       "    .dataframe tbody tr th:only-of-type {\n",
       "        vertical-align: middle;\n",
       "    }\n",
       "\n",
       "    .dataframe tbody tr th {\n",
       "        vertical-align: top;\n",
       "    }\n",
       "\n",
       "    .dataframe thead th {\n",
       "        text-align: right;\n",
       "    }\n",
       "</style>\n",
       "<table border=\"1\" class=\"dataframe\">\n",
       "  <thead>\n",
       "    <tr style=\"text-align: right;\">\n",
       "      <th></th>\n",
       "      <th>user_id</th>\n",
       "      <th>source</th>\n",
       "      <th>first_session</th>\n",
       "      <th>first_date</th>\n",
       "    </tr>\n",
       "  </thead>\n",
       "  <tbody>\n",
       "    <tr>\n",
       "      <th>0</th>\n",
       "      <td>020292ab-89bc-4156-9acf-68bc2783f894</td>\n",
       "      <td>other</td>\n",
       "      <td>2019-10-07 00:00:00</td>\n",
       "      <td>2019-10-07</td>\n",
       "    </tr>\n",
       "    <tr>\n",
       "      <th>1</th>\n",
       "      <td>cf7eda61-9349-469f-ac27-e5b6f5ec475c</td>\n",
       "      <td>yandex</td>\n",
       "      <td>2019-10-07 00:00:02</td>\n",
       "      <td>2019-10-07</td>\n",
       "    </tr>\n",
       "    <tr>\n",
       "      <th>2</th>\n",
       "      <td>8c356c42-3ba9-4cb6-80b8-3f868d0192c3</td>\n",
       "      <td>yandex</td>\n",
       "      <td>2019-10-07 00:02:07</td>\n",
       "      <td>2019-10-07</td>\n",
       "    </tr>\n",
       "    <tr>\n",
       "      <th>3</th>\n",
       "      <td>d9b06b47-0f36-419b-bbb0-3533e582a6cb</td>\n",
       "      <td>other</td>\n",
       "      <td>2019-10-07 00:05:20</td>\n",
       "      <td>2019-10-07</td>\n",
       "    </tr>\n",
       "    <tr>\n",
       "      <th>4</th>\n",
       "      <td>f32e1e2a-3027-4693-b793-b7b3ff274439</td>\n",
       "      <td>google</td>\n",
       "      <td>2019-10-07 00:09:34</td>\n",
       "      <td>2019-10-07</td>\n",
       "    </tr>\n",
       "    <tr>\n",
       "      <th>...</th>\n",
       "      <td>...</td>\n",
       "      <td>...</td>\n",
       "      <td>...</td>\n",
       "      <td>...</td>\n",
       "    </tr>\n",
       "    <tr>\n",
       "      <th>4201</th>\n",
       "      <td>b86fe56e-f2de-4f8a-b192-cd89a37ecd41</td>\n",
       "      <td>yandex</td>\n",
       "      <td>2019-11-03 23:10:03</td>\n",
       "      <td>2019-11-03</td>\n",
       "    </tr>\n",
       "    <tr>\n",
       "      <th>4202</th>\n",
       "      <td>424c0ae1-3ea3-4f1e-a814-6bac73e48ab1</td>\n",
       "      <td>yandex</td>\n",
       "      <td>2019-11-03 23:22:52</td>\n",
       "      <td>2019-11-03</td>\n",
       "    </tr>\n",
       "    <tr>\n",
       "      <th>4203</th>\n",
       "      <td>437a4cd4-9ba9-457f-8614-d142bc48fbeb</td>\n",
       "      <td>yandex</td>\n",
       "      <td>2019-11-03 23:44:22</td>\n",
       "      <td>2019-11-03</td>\n",
       "    </tr>\n",
       "    <tr>\n",
       "      <th>4204</th>\n",
       "      <td>c10055f0-0b47-477a-869e-d391b31fdf8f</td>\n",
       "      <td>yandex</td>\n",
       "      <td>2019-11-03 23:46:31</td>\n",
       "      <td>2019-11-03</td>\n",
       "    </tr>\n",
       "    <tr>\n",
       "      <th>4205</th>\n",
       "      <td>d157bffc-264d-4464-8220-1cc0c42f43a9</td>\n",
       "      <td>google</td>\n",
       "      <td>2019-11-03 23:46:47</td>\n",
       "      <td>2019-11-03</td>\n",
       "    </tr>\n",
       "  </tbody>\n",
       "</table>\n",
       "<p>4206 rows × 4 columns</p>\n",
       "</div>"
      ],
      "text/plain": [
       "                                   user_id  source       first_session  \\\n",
       "0     020292ab-89bc-4156-9acf-68bc2783f894   other 2019-10-07 00:00:00   \n",
       "1     cf7eda61-9349-469f-ac27-e5b6f5ec475c  yandex 2019-10-07 00:00:02   \n",
       "2     8c356c42-3ba9-4cb6-80b8-3f868d0192c3  yandex 2019-10-07 00:02:07   \n",
       "3     d9b06b47-0f36-419b-bbb0-3533e582a6cb   other 2019-10-07 00:05:20   \n",
       "4     f32e1e2a-3027-4693-b793-b7b3ff274439  google 2019-10-07 00:09:34   \n",
       "...                                    ...     ...                 ...   \n",
       "4201  b86fe56e-f2de-4f8a-b192-cd89a37ecd41  yandex 2019-11-03 23:10:03   \n",
       "4202  424c0ae1-3ea3-4f1e-a814-6bac73e48ab1  yandex 2019-11-03 23:22:52   \n",
       "4203  437a4cd4-9ba9-457f-8614-d142bc48fbeb  yandex 2019-11-03 23:44:22   \n",
       "4204  c10055f0-0b47-477a-869e-d391b31fdf8f  yandex 2019-11-03 23:46:31   \n",
       "4205  d157bffc-264d-4464-8220-1cc0c42f43a9  google 2019-11-03 23:46:47   \n",
       "\n",
       "      first_date  \n",
       "0     2019-10-07  \n",
       "1     2019-10-07  \n",
       "2     2019-10-07  \n",
       "3     2019-10-07  \n",
       "4     2019-10-07  \n",
       "...          ...  \n",
       "4201  2019-11-03  \n",
       "4202  2019-11-03  \n",
       "4203  2019-11-03  \n",
       "4204  2019-11-03  \n",
       "4205  2019-11-03  \n",
       "\n",
       "[4206 rows x 4 columns]"
      ]
     },
     "execution_count": 34,
     "metadata": {},
     "output_type": "execute_result"
    }
   ],
   "source": [
    "profiles"
   ]
  },
  {
   "cell_type": "code",
   "execution_count": 35,
   "id": "28d4f732",
   "metadata": {
    "scrolled": false
   },
   "outputs": [
    {
     "data": {
      "image/png": "[encoded data removed]",
      "text/plain": [
       "<Figure size 720x360 with 1 Axes>"
      ]
     },
     "metadata": {
      "needs_background": "light"
     },
     "output_type": "display_data"
    }
   ],
   "source": [
    "# График: динамика привлечения пользователей по источникам со скользящим средним в 7 дней\n",
    "\n",
    "profiles.pivot_table(\n",
    "    index='first_date', \n",
    "    columns='source',  # источники переходов\n",
    "    values='user_id',  # ID пользователей\n",
    "    aggfunc='nunique'  # подсчёт уникальных значений\n",
    ").rolling(7).mean().plot(figsize=(10, 5), grid=True)\n",
    "plt.title('Динамика привлечения пользователей по источникам', size=16)\n",
    "plt.xlabel('Дата', size=14)\n",
    "plt.ylabel('Число новых пользователей', size=14)\n",
    "\n",
    "plt.show()"
   ]
  },
  {
   "cell_type": "code",
   "execution_count": 36,
   "id": "105ce8a0",
   "metadata": {},
   "outputs": [
    {
     "data": {
      "image/png": "[encoded data removed]",
      "text/plain": [
       "<Figure size 720x360 with 1 Axes>"
      ]
     },
     "metadata": {
      "needs_background": "light"
     },
     "output_type": "display_data"
    }
   ],
   "source": [
    "# График: общая динамика привлечения пользователей со скользящим средним в 7 дней\n",
    "\n",
    "profiles.pivot_table(\n",
    "    index='first_date', \n",
    "    values='user_id',  # ID пользователей\n",
    "    aggfunc='nunique'  # подсчёт уникальных значений\n",
    ").rolling(7).mean().plot(figsize=(10, 5), grid=True)\n",
    "plt.title('Динамика привлечения пользователей', size=16)\n",
    "plt.xlabel('Дата', size=14)\n",
    "plt.ylabel('Число новых пользователей', size=14)\n",
    "\n",
    "plt.show()"
   ]
  },
  {
   "cell_type": "markdown",
   "id": "193ff3cf",
   "metadata": {},
   "source": [
    "**Выводы:**"
   ]
  },
  {
   "cell_type": "markdown",
   "id": "e4b30b7b",
   "metadata": {},
   "source": [
    "- **Яндекс стабильно привлекает больше новых пользователей.** \n",
    "- **Гугл и другие источники привлекают примерно одинаковое число пользователей.** \n",
    "- **В течение рассматриваемого периода привлечение новых пользователей снижается**"
   ]
  },
  {
   "cell_type": "markdown",
   "id": "09076839",
   "metadata": {},
   "source": [
    "### Конверсия пользователей в просмотр контактов"
   ]
  },
  {
   "cell_type": "code",
   "execution_count": 37,
   "id": "0ad5834f",
   "metadata": {},
   "outputs": [],
   "source": [
    "# Определение пользователей, посмотревших контакты\n",
    "\n",
    "buyers = events.query('event_name==\"contacts_show\"')['user_id'].unique()"
   ]
  },
  {
   "cell_type": "code",
   "execution_count": 38,
   "id": "bff06f99",
   "metadata": {},
   "outputs": [],
   "source": [
    "# Индексация посмотревших контакты в профилях пользователей\n",
    "\n",
    "profiles['buyer'] = profiles['user_id'].isin(buyers)"
   ]
  },
  {
   "cell_type": "code",
   "execution_count": 39,
   "id": "ddbdb79b",
   "metadata": {},
   "outputs": [
    {
     "name": "stdout",
     "output_type": "stream",
     "text": [
      "Покупателей:\n"
     ]
    },
    {
     "data": {
      "text/plain": [
       "972"
      ]
     },
     "execution_count": 39,
     "metadata": {},
     "output_type": "execute_result"
    }
   ],
   "source": [
    "print ('Покупателей:')\n",
    "profiles['buyer'].sum()"
   ]
  },
  {
   "cell_type": "code",
   "execution_count": 40,
   "id": "aa93813f",
   "metadata": {},
   "outputs": [
    {
     "name": "stdout",
     "output_type": "stream",
     "text": [
      "Не покупателей:\n"
     ]
    },
    {
     "data": {
      "text/plain": [
       "3234"
      ]
     },
     "execution_count": 40,
     "metadata": {},
     "output_type": "execute_result"
    }
   ],
   "source": [
    "print ('Не покупателей:')\n",
    "profiles['buyer'].count() - profiles['buyer'].sum()"
   ]
  },
  {
   "cell_type": "code",
   "execution_count": 41,
   "id": "99fbfb42",
   "metadata": {},
   "outputs": [
    {
     "name": "stdout",
     "output_type": "stream",
     "text": [
      "Общая конверсия: 0.23\n"
     ]
    }
   ],
   "source": [
    "# Общая конверсия\n",
    "total_convertion = (profiles['buyer'].sum() / profiles['buyer'].count())\n",
    "print ('Общая конверсия: {:.2}'.format(total_convertion))"
   ]
  },
  {
   "cell_type": "markdown",
   "id": "e90c7ff5",
   "metadata": {},
   "source": [
    "**Общая конверсия за рассматриваемый период - 0.23 (почти каждый 4 пользователь доходит до просмотра контактов продавца)**"
   ]
  },
  {
   "cell_type": "markdown",
   "id": "99ff56ba",
   "metadata": {},
   "source": [
    "#### Число просмотров контактов пользователем за день"
   ]
  },
  {
   "cell_type": "markdown",
   "id": "0d5fc311",
   "metadata": {},
   "source": [
    "**Можно посчитать среднее число просмотров контактов пользователем в день в качестве целевой метрики активности пользователей**"
   ]
  },
  {
   "cell_type": "code",
   "execution_count": 42,
   "id": "8e03f560",
   "metadata": {},
   "outputs": [],
   "source": [
    "# Общее число просмотров контактов пользователем\n",
    "\n",
    "contacts_shown = (\n",
    "    events.query('event_name==\"contacts_show\"')\n",
    "    .groupby('user_id')\n",
    "    .agg({'event_name':'count'})\n",
    "    .reset_index()\n",
    ")\n",
    "\n",
    "# Присоединяем общее число просмотров к профилям пользователей\n",
    "profiles = profiles.merge(contacts_shown, on='user_id', how='left')\n",
    "profiles = profiles.rename(columns={'event_name':'contacts_shown'})\n",
    "\n",
    "# Пользователям без просмотров контактов проставляем 0\n",
    "profiles['contacts_shown'] = profiles['contacts_shown'].fillna(0)"
   ]
  },
  {
   "cell_type": "code",
   "execution_count": 43,
   "id": "cfa47e79",
   "metadata": {},
   "outputs": [],
   "source": [
    "# Функция для расчета среднего числа просмотров контактов в день начиная с даты прихода пользователя в приложение\n",
    "\n",
    "def get_dayly_contacts_shown (profiles):\n",
    "    days = (datetime(2019, 11, 3).date() - profiles['first_date']).days + 1\n",
    "    result = profiles['contacts_shown'] / days\n",
    "    return result"
   ]
  },
  {
   "cell_type": "code",
   "execution_count": 44,
   "id": "0808f638",
   "metadata": {},
   "outputs": [],
   "source": [
    "# Считаем среднее число просмотров контактов пользователем в день\n",
    "profiles['dayly_contacts_shown'] = profiles.apply(get_dayly_contacts_shown, axis=1)"
   ]
  },
  {
   "cell_type": "code",
   "execution_count": 45,
   "id": "e76ee2c6",
   "metadata": {},
   "outputs": [
    {
     "name": "stdout",
     "output_type": "stream",
     "text": [
      "Среднее число просмотров контактов в день:\n"
     ]
    },
    {
     "data": {
      "text/plain": [
       "0.1022689594873511"
      ]
     },
     "execution_count": 45,
     "metadata": {},
     "output_type": "execute_result"
    }
   ],
   "source": [
    "print ('Среднее число просмотров контактов в день:')\n",
    "profiles['dayly_contacts_shown'].mean()"
   ]
  },
  {
   "cell_type": "markdown",
   "id": "2a01d233",
   "metadata": {},
   "source": [
    "**Усредненный пользователь просматривает 0.1 контакт в день (1 контакт за 10 дней)**"
   ]
  },
  {
   "cell_type": "code",
   "execution_count": 46,
   "id": "fbe3a9b5",
   "metadata": {},
   "outputs": [
    {
     "name": "stdout",
     "output_type": "stream",
     "text": [
      "Среднее число просмотров контактов в день покупателями:\n"
     ]
    },
    {
     "data": {
      "text/plain": [
       "0.4425342012384761"
      ]
     },
     "execution_count": 46,
     "metadata": {},
     "output_type": "execute_result"
    }
   ],
   "source": [
    "# Сколько контактов просматривают покупатели (пользователи, в принципе дошедшие до просмотра контактов)\n",
    "print ('Среднее число просмотров контактов в день покупателями:')\n",
    "profiles.query('buyer==True')['dayly_contacts_shown'].mean()"
   ]
  },
  {
   "cell_type": "markdown",
   "id": "3b4968e8",
   "metadata": {},
   "source": [
    "**Пользователи, которые дошли до просматра контактов, просматривают 0.43 контакта в день (примерно 1 контакт в 2 дня)**"
   ]
  },
  {
   "cell_type": "markdown",
   "id": "5cb316cd",
   "metadata": {},
   "source": [
    "#### Дневная конверсия"
   ]
  },
  {
   "cell_type": "code",
   "execution_count": 47,
   "id": "474dd16f",
   "metadata": {},
   "outputs": [],
   "source": [
    "# Функция для таблицы конверсии за день\n",
    "def get_day_conversion (events):\n",
    "    \n",
    "# Число уникальных пользователей в день\n",
    "    conversion_date = events.groupby('date').agg({'user_id':'nunique'})\n",
    "    conversion_date.columns = ['users']\n",
    "\n",
    "# Число уникальных пользователей, посмотревших контакты в день\n",
    "    conversion_date['contacts_shown'] = events.query('event_name==\"contacts_show\"').groupby('date').agg({'user_id':'nunique'})\n",
    "\n",
    "# Конверсия в день\n",
    "    conversion_date['conversion'] = conversion_date['contacts_shown'] / conversion_date['users']\n",
    "    return conversion_date"
   ]
  },
  {
   "cell_type": "code",
   "execution_count": 48,
   "id": "08161c00",
   "metadata": {},
   "outputs": [],
   "source": [
    "conversion_date = get_day_conversion (events)"
   ]
  },
  {
   "cell_type": "code",
   "execution_count": 49,
   "id": "6471d077",
   "metadata": {},
   "outputs": [
    {
     "data": {
      "image/png": "[encoded data removed]",
      "text/plain": [
       "<Figure size 720x360 with 1 Axes>"
      ]
     },
     "metadata": {
      "needs_background": "light"
     },
     "output_type": "display_data"
    }
   ],
   "source": [
    "# Конверсия по дням со скользящим средним в 7 дней\n",
    "\n",
    "plt.figure(figsize=(10,5))\n",
    "plt.plot(conversion_date['conversion'].rolling(7).mean())\n",
    "plt.title('Конверсия по дням', size=16)\n",
    "plt.xlabel('Дата', size=14)\n",
    "plt.ylabel('Конверсия', size=14)\n",
    "plt.show()"
   ]
  },
  {
   "cell_type": "markdown",
   "id": "a747ff9d",
   "metadata": {},
   "source": [
    "**Конверсия за рассматриваемый период растет. Есть периодическая динамика по неделям**"
   ]
  },
  {
   "cell_type": "code",
   "execution_count": 50,
   "id": "3e2d2379",
   "metadata": {},
   "outputs": [
    {
     "data": {
      "image/png": "[encoded data removed]",
      "text/plain": [
       "<Figure size 720x360 with 1 Axes>"
      ]
     },
     "metadata": {
      "needs_background": "light"
     },
     "output_type": "display_data"
    }
   ],
   "source": [
    "# Средняя конверсия по дням недели\n",
    "\n",
    "weekday_conversion = (\n",
    "    conversion_date.groupby(\n",
    "        pd.to_datetime(conversion_date.index)\n",
    "        .weekday)\n",
    "    .agg({'conversion':'mean'})\n",
    ")\n",
    "\n",
    "plt.figure(figsize=(10,5))\n",
    "plt.bar(x=weekday_conversion.index, height=weekday_conversion['conversion'])\n",
    "plt.title('Конверсия по дням недели', size=16)\n",
    "plt.xlabel('День недели', size=14)\n",
    "plt.ylabel('Число событий', size=14)\n",
    "plt.ylim(0.1,0.25)\n",
    "plt.show()"
   ]
  },
  {
   "cell_type": "markdown",
   "id": "c577c8ca",
   "metadata": {},
   "source": [
    "**В среднем максимальная конверсия в четверг и пятницу, минимальная - в понедельник. Но четкой зависимости в течении недели нет**"
   ]
  },
  {
   "cell_type": "code",
   "execution_count": 51,
   "id": "ce59d04c",
   "metadata": {
    "scrolled": false
   },
   "outputs": [],
   "source": [
    "# Число уникальных пользователей в каждый час\n",
    "conversion_hour = (events.groupby('hour').agg({'user_id':'nunique'}))\n",
    "conversion_hour.columns = ['users']\n",
    "\n",
    "# Число уникальных пользователей, посмотревших контакты в каждый час\n",
    "conversion_hour['contacts_shown'] = events.query('event_name==\"contacts_show\"').groupby('hour').agg({'user_id':'nunique'})\n",
    "conversion_hour = conversion_hour.reset_index()\n",
    "\n",
    "# Среднее число посетителей и посмотревших контакты за час в сутки\n",
    "conversion_hour = conversion_hour.groupby('hour').agg({'users':'mean', 'contacts_shown':'mean'})\n",
    "\n",
    "# Конверсия в час\n",
    "conversion_hour['conversion'] = conversion_hour['contacts_shown'] / conversion_hour['users']"
   ]
  },
  {
   "cell_type": "code",
   "execution_count": 52,
   "id": "ecb86b7d",
   "metadata": {
    "scrolled": true
   },
   "outputs": [
    {
     "data": {
      "image/png": "[encoded data removed]",
      "text/plain": [
       "<Figure size 720x360 with 1 Axes>"
      ]
     },
     "metadata": {
      "needs_background": "light"
     },
     "output_type": "display_data"
    }
   ],
   "source": [
    "# График средней конверсии по часам в сутки\n",
    "\n",
    "plt.figure(figsize=(10,5))\n",
    "plt.plot(conversion_hour['conversion'])\n",
    "plt.title('Средняя конверсия по часам', size=16)\n",
    "plt.xlabel('Час', size=14)\n",
    "plt.ylabel('Конверсия', size=14)\n",
    "plt.show()"
   ]
  },
  {
   "cell_type": "markdown",
   "id": "6d5841e6",
   "metadata": {},
   "source": [
    "**Наиболее высокая конверсия в течении дня (10-17 часов), вечером, ночью и утром - ниже**"
   ]
  },
  {
   "cell_type": "markdown",
   "id": "adec7256",
   "metadata": {},
   "source": [
    "### Время, проведённое в приложении"
   ]
  },
  {
   "cell_type": "code",
   "execution_count": 53,
   "id": "833d33b7",
   "metadata": {},
   "outputs": [],
   "source": [
    "# Средняя продолжительность сессий для пользователей\n",
    "profiles = (\n",
    "    profiles.join(sessions.groupby('user_id')['duration'].mean()\n",
    "                  , on='user_id'\n",
    "                  , how='left'\n",
    "                 )\n",
    "    .rename(columns={'duration':'mean_duration'})\n",
    ")"
   ]
  },
  {
   "cell_type": "code",
   "execution_count": 54,
   "id": "1076e4e7",
   "metadata": {},
   "outputs": [],
   "source": [
    "# Среднее число событий за сессию для пользователя\n",
    "profiles = profiles.merge(sessions.groupby('user_id')['event_count'].mean(), on='user_id')"
   ]
  },
  {
   "cell_type": "code",
   "execution_count": 55,
   "id": "40f34b1e",
   "metadata": {},
   "outputs": [
    {
     "data": {
      "text/plain": [
       "0"
      ]
     },
     "execution_count": 55,
     "metadata": {},
     "output_type": "execute_result"
    }
   ],
   "source": [
    "profiles['mean_duration'].isna().sum()"
   ]
  },
  {
   "cell_type": "code",
   "execution_count": 56,
   "id": "13d5ef89",
   "metadata": {},
   "outputs": [],
   "source": [
    "# Пропуски в mean_duration заполняем нулями\n",
    "profiles['mean_duration'] = profiles['mean_duration'].fillna(0)"
   ]
  },
  {
   "cell_type": "code",
   "execution_count": 57,
   "id": "9f6fc218",
   "metadata": {},
   "outputs": [
    {
     "data": {
      "text/plain": [
       "count    4206.000000\n",
       "mean       15.989008\n",
       "std        16.658228\n",
       "min         0.016667\n",
       "25%         5.054167\n",
       "50%        10.916667\n",
       "75%        21.432197\n",
       "max       217.500000\n",
       "Name: mean_duration, dtype: float64"
      ]
     },
     "execution_count": 57,
     "metadata": {},
     "output_type": "execute_result"
    }
   ],
   "source": [
    "profiles['mean_duration'].describe()"
   ]
  },
  {
   "cell_type": "markdown",
   "id": "3a333e1c",
   "metadata": {},
   "source": [
    "**У 75% пользователей сессии меньше 22 минут**"
   ]
  },
  {
   "cell_type": "code",
   "execution_count": 58,
   "id": "dd6a11ff",
   "metadata": {},
   "outputs": [
    {
     "data": {
      "image/png": "[encoded data removed]",
      "text/plain": [
       "<Figure size 720x360 with 1 Axes>"
      ]
     },
     "metadata": {
      "needs_background": "light"
     },
     "output_type": "display_data"
    }
   ],
   "source": [
    "# Гистограмма средней продолжительности сессий по пользователям\n",
    "\n",
    "plt.figure(figsize=(10,5))\n",
    "profiles['mean_duration'].hist(bins=50)\n",
    "plt.title('Средняя продолжительность сессий у пользователей')\n",
    "plt.xlabel('Средняя продолжительность сессии, мин')\n",
    "plt.ylabel('Количество пользователей')\n",
    "plt.show()"
   ]
  },
  {
   "cell_type": "markdown",
   "id": "028ec122",
   "metadata": {},
   "source": [
    "**Распределение Пуассона, у большинства пользователей среднее время сессии очень короткое**"
   ]
  },
  {
   "cell_type": "code",
   "execution_count": 59,
   "id": "f7b3edb5",
   "metadata": {},
   "outputs": [
    {
     "data": {
      "text/plain": [
       "75.4641666666666"
      ]
     },
     "execution_count": 59,
     "metadata": {},
     "output_type": "execute_result"
    }
   ],
   "source": [
    "# Верхний процентиль продолжительности сессии\n",
    "np.percentile(profiles['mean_duration'], 99)"
   ]
  },
  {
   "cell_type": "markdown",
   "id": "c679ce2b",
   "metadata": {},
   "source": [
    "**Больше 75 минут в приложении проводит только 1% пользователей**"
   ]
  },
  {
   "cell_type": "code",
   "execution_count": 60,
   "id": "4fc6ed5e",
   "metadata": {
    "scrolled": true
   },
   "outputs": [
    {
     "data": {
      "image/png": "[encoded data removed]",
      "text/plain": [
       "<Figure size 720x360 with 1 Axes>"
      ]
     },
     "metadata": {
      "needs_background": "light"
     },
     "output_type": "display_data"
    }
   ],
   "source": [
    "# Гистограмма средней продолжительности сессий по пользователям без верхнего процентиля\n",
    "\n",
    "plt.figure(figsize=(10,5))\n",
    "profiles['mean_duration'].hist(bins=100)\n",
    "plt.title('Средняя продолжительность сессий у пользователей')\n",
    "plt.xlabel('Средняя продолжительность сессии, мин')\n",
    "plt.ylabel('Количество пользователей')\n",
    "plt.xlim(0,75)\n",
    "plt.show()"
   ]
  },
  {
   "cell_type": "markdown",
   "id": "9bff7d99",
   "metadata": {},
   "source": [
    "**Много пользователей со средней продолжительностью сессии до 6 минут, дальше количество пользователей снижается**"
   ]
  },
  {
   "cell_type": "markdown",
   "id": "edec63fa",
   "metadata": {},
   "source": [
    "**Отличается ли конверсия для пользователей которые проводят меньше или больше 6 минут в приложении?**"
   ]
  },
  {
   "cell_type": "code",
   "execution_count": 61,
   "id": "53b7d388",
   "metadata": {},
   "outputs": [
    {
     "data": {
      "text/plain": [
       "0.21082390953150243"
      ]
     },
     "execution_count": 61,
     "metadata": {},
     "output_type": "execute_result"
    }
   ],
   "source": [
    "profiles.query('mean_duration < 6')['buyer'].mean()"
   ]
  },
  {
   "cell_type": "code",
   "execution_count": 62,
   "id": "144b3525",
   "metadata": {
    "scrolled": true
   },
   "outputs": [
    {
     "data": {
      "text/plain": [
       "0.23952702702702702"
      ]
     },
     "execution_count": 62,
     "metadata": {},
     "output_type": "execute_result"
    }
   ],
   "source": [
    "profiles.query('mean_duration > 6')['buyer'].mean()"
   ]
  },
  {
   "cell_type": "markdown",
   "id": "ee955d64",
   "metadata": {},
   "source": [
    "**У тех кто проводит более 6 минут в приложении конверсия выше**"
   ]
  },
  {
   "cell_type": "markdown",
   "id": "bf5dfcd5",
   "metadata": {},
   "source": [
    "### Retention rate по дням"
   ]
  },
  {
   "cell_type": "markdown",
   "id": "153793b8",
   "metadata": {},
   "source": [
    "Определить горизонт анализа, расчитать лайфтаймы, построить таблицу удержания, определить размеры когорт, расчитать Retention rate"
   ]
  },
  {
   "cell_type": "code",
   "execution_count": 63,
   "id": "5732caa4",
   "metadata": {},
   "outputs": [],
   "source": [
    "# Функция для расчета удержания\n",
    "\n",
    "def get_retention(\n",
    "    profiles, sessions, observation_date, horizon_days, ignore_horizon=False\n",
    "):\n",
    "\n",
    "    # исключаем пользователей, не «доживших» до горизонта анализа\n",
    "    last_suitable_acquisition_date = observation_date\n",
    "    if not ignore_horizon:\n",
    "        last_suitable_acquisition_date = observation_date - timedelta(\n",
    "            days=horizon_days - 1\n",
    "        )\n",
    "    result_raw = profiles.query('first_date <= @last_suitable_acquisition_date')\n",
    "\n",
    "    # собираем «сырые» данные для расчёта удержания\n",
    "    result_raw = result_raw.merge(\n",
    "        sessions[['user_id', 'start']], on='user_id', how='left'\n",
    "    )\n",
    "    result_raw['lifetime'] = (\n",
    "        result_raw['start'] - result_raw['first_session']\n",
    "    ).dt.days\n",
    "\n",
    "    # рассчитываем удержание\n",
    "    result_grouped = result_raw.pivot_table(\n",
    "        index='first_date', columns='lifetime', values='user_id', aggfunc='nunique'\n",
    "    )\n",
    "    \n",
    "    # Размеры когорт\n",
    "    cohort_sizes = (\n",
    "        result_raw.groupby('first_date')\n",
    "        .agg({'user_id': 'nunique'})\n",
    "        .rename(columns={'user_id': 'cohort_size'})\n",
    "    )\n",
    "    result_grouped = cohort_sizes.merge(\n",
    "        result_grouped, on='first_date', how='left'\n",
    "    ).fillna(0)\n",
    "    result_grouped = result_grouped.div(result_grouped['cohort_size'], axis=0)\n",
    "\n",
    "    # исключаем все лайфтаймы, превышающие горизонт анализа\n",
    "    result_grouped = result_grouped[\n",
    "        ['cohort_size'] + list(range(horizon_days))\n",
    "    ]\n",
    "\n",
    "    # восстанавливаем столбец с размерами когорт\n",
    "    result_grouped['cohort_size'] = cohort_sizes\n",
    "\n",
    "    # возвращаем таблицу удержания и сырые данные\n",
    "    return result_raw, result_grouped"
   ]
  },
  {
   "cell_type": "code",
   "execution_count": 64,
   "id": "0edf4754",
   "metadata": {},
   "outputs": [
    {
     "data": {
      "text/html": [
       "<div>\n",
       "<style scoped>\n",
       "    .dataframe tbody tr th:only-of-type {\n",
       "        vertical-align: middle;\n",
       "    }\n",
       "\n",
       "    .dataframe tbody tr th {\n",
       "        vertical-align: top;\n",
       "    }\n",
       "\n",
       "    .dataframe thead th {\n",
       "        text-align: right;\n",
       "    }\n",
       "</style>\n",
       "<table border=\"1\" class=\"dataframe\">\n",
       "  <thead>\n",
       "    <tr style=\"text-align: right;\">\n",
       "      <th></th>\n",
       "      <th>cohort_size</th>\n",
       "      <th>0</th>\n",
       "      <th>1</th>\n",
       "      <th>2</th>\n",
       "      <th>3</th>\n",
       "      <th>4</th>\n",
       "      <th>5</th>\n",
       "      <th>6</th>\n",
       "    </tr>\n",
       "    <tr>\n",
       "      <th>first_date</th>\n",
       "      <th></th>\n",
       "      <th></th>\n",
       "      <th></th>\n",
       "      <th></th>\n",
       "      <th></th>\n",
       "      <th></th>\n",
       "      <th></th>\n",
       "      <th></th>\n",
       "    </tr>\n",
       "  </thead>\n",
       "  <tbody>\n",
       "    <tr>\n",
       "      <th>2019-10-07</th>\n",
       "      <td>186</td>\n",
       "      <td>1.0</td>\n",
       "      <td>0.096774</td>\n",
       "      <td>0.069892</td>\n",
       "      <td>0.069892</td>\n",
       "      <td>0.037634</td>\n",
       "      <td>0.026882</td>\n",
       "      <td>0.053763</td>\n",
       "    </tr>\n",
       "    <tr>\n",
       "      <th>2019-10-08</th>\n",
       "      <td>161</td>\n",
       "      <td>1.0</td>\n",
       "      <td>0.124224</td>\n",
       "      <td>0.086957</td>\n",
       "      <td>0.049689</td>\n",
       "      <td>0.031056</td>\n",
       "      <td>0.055901</td>\n",
       "      <td>0.037267</td>\n",
       "    </tr>\n",
       "    <tr>\n",
       "      <th>2019-10-09</th>\n",
       "      <td>163</td>\n",
       "      <td>1.0</td>\n",
       "      <td>0.049080</td>\n",
       "      <td>0.042945</td>\n",
       "      <td>0.018405</td>\n",
       "      <td>0.036810</td>\n",
       "      <td>0.042945</td>\n",
       "      <td>0.030675</td>\n",
       "    </tr>\n",
       "    <tr>\n",
       "      <th>2019-10-10</th>\n",
       "      <td>165</td>\n",
       "      <td>1.0</td>\n",
       "      <td>0.066667</td>\n",
       "      <td>0.084848</td>\n",
       "      <td>0.054545</td>\n",
       "      <td>0.084848</td>\n",
       "      <td>0.060606</td>\n",
       "      <td>0.066667</td>\n",
       "    </tr>\n",
       "    <tr>\n",
       "      <th>2019-10-11</th>\n",
       "      <td>131</td>\n",
       "      <td>1.0</td>\n",
       "      <td>0.061069</td>\n",
       "      <td>0.061069</td>\n",
       "      <td>0.076336</td>\n",
       "      <td>0.045802</td>\n",
       "      <td>0.045802</td>\n",
       "      <td>0.076336</td>\n",
       "    </tr>\n",
       "  </tbody>\n",
       "</table>\n",
       "</div>"
      ],
      "text/plain": [
       "            cohort_size    0         1         2         3         4  \\\n",
       "first_date                                                             \n",
       "2019-10-07          186  1.0  0.096774  0.069892  0.069892  0.037634   \n",
       "2019-10-08          161  1.0  0.124224  0.086957  0.049689  0.031056   \n",
       "2019-10-09          163  1.0  0.049080  0.042945  0.018405  0.036810   \n",
       "2019-10-10          165  1.0  0.066667  0.084848  0.054545  0.084848   \n",
       "2019-10-11          131  1.0  0.061069  0.061069  0.076336  0.045802   \n",
       "\n",
       "                   5         6  \n",
       "first_date                      \n",
       "2019-10-07  0.026882  0.053763  \n",
       "2019-10-08  0.055901  0.037267  \n",
       "2019-10-09  0.042945  0.030675  \n",
       "2019-10-10  0.060606  0.066667  \n",
       "2019-10-11  0.045802  0.076336  "
      ]
     },
     "execution_count": 64,
     "metadata": {},
     "output_type": "execute_result"
    }
   ],
   "source": [
    "# Расчет удержания, момент анализа - последнее число периода (2019-11-03), горизонт анализа - неделя\n",
    "retention_raw, retention = get_retention(\n",
    "    profiles, sessions, datetime(2019, 11, 3).date(), 7\n",
    ")\n",
    "\n",
    "retention.head()"
   ]
  },
  {
   "cell_type": "code",
   "execution_count": 65,
   "id": "90a5c230",
   "metadata": {
    "scrolled": false
   },
   "outputs": [
    {
     "data": {
      "image/png": "[encoded data removed]",
      "text/plain": [
       "<Figure size 1080x432 with 2 Axes>"
      ]
     },
     "metadata": {
      "needs_background": "light"
     },
     "output_type": "display_data"
    }
   ],
   "source": [
    "plt.figure(figsize = (15, 6))  # задаём размер графика\n",
    "sns.heatmap(retention.drop(columns = ['cohort_size', 0]), # удаляем размеры когорт\n",
    "            annot = True,  # включаем подписи\n",
    "            fmt = '.2%'  # отображаем значения в виде процентов\n",
    "           )\n",
    "plt.title('Тепловая карта удержания')  # название графика\n",
    "plt.show()"
   ]
  },
  {
   "cell_type": "markdown",
   "id": "927556af",
   "metadata": {},
   "source": [
    "**Динамика удержания по дням не выглядит представительной, так как пользователи пользуются приложением не каждый день, так что явной динамики не видно. Удержание по неделям может быть более показательным**"
   ]
  },
  {
   "cell_type": "markdown",
   "id": "5b7461ba",
   "metadata": {},
   "source": [
    "### Retention rate по неделям"
   ]
  },
  {
   "cell_type": "code",
   "execution_count": 66,
   "id": "7edcc715",
   "metadata": {},
   "outputs": [],
   "source": [
    "# Функция определяет неделю и возвращает первое число недели\n",
    "\n",
    "def get_week(date_time):\n",
    "    if date_time.date() < datetime(2019, 10, 14).date():\n",
    "        result = datetime(2019, 10, 7)\n",
    "    elif date_time.date() < datetime(2019, 10, 21).date():\n",
    "        result = datetime(2019, 10, 14)\n",
    "    elif date_time.date() < datetime(2019, 10, 28).date():\n",
    "        result = datetime(2019, 10, 21)\n",
    "    elif date_time.date() < datetime(2019, 11, 4).date():\n",
    "        result = datetime(2019, 10, 28)\n",
    "    return result"
   ]
  },
  {
   "cell_type": "code",
   "execution_count": 67,
   "id": "2735bf3b",
   "metadata": {},
   "outputs": [],
   "source": [
    "# Получаем недели сессий\n",
    "sessions['start_week'] = sessions['start'].apply(get_week)"
   ]
  },
  {
   "cell_type": "code",
   "execution_count": 68,
   "id": "f7eb749e",
   "metadata": {},
   "outputs": [],
   "source": [
    "# Получаем недели прихода пользователей\n",
    "profiles['first_week'] = profiles['first_session'].apply(get_week)"
   ]
  },
  {
   "cell_type": "code",
   "execution_count": 69,
   "id": "7ad638c7",
   "metadata": {},
   "outputs": [],
   "source": [
    "# Функция для расчета удержания по неделям\n",
    "\n",
    "def get_week_retention(\n",
    "    profiles, sessions, observation_date, horizon_weeks, ignore_horizon=False\n",
    "):\n",
    "\n",
    "    # исключаем пользователей, не «доживших» до горизонта анализа\n",
    "    last_suitable_acquisition_date = observation_date\n",
    "    if not ignore_horizon:\n",
    "        last_suitable_acquisition_date = observation_date - timedelta(\n",
    "            weeks=horizon_weeks - 1\n",
    "        )\n",
    "    result_raw = profiles.query('first_week <= @last_suitable_acquisition_date')\n",
    "\n",
    "    # собираем «сырые» данные для расчёта удержания\n",
    "    result_raw = result_raw.merge(\n",
    "        sessions[['user_id', 'start_week']], on='user_id', how='left'\n",
    "    )\n",
    "    result_raw['lifetime'] = ((\n",
    "        result_raw['start_week'] - result_raw['first_week']\n",
    "    ).dt.days / 7).astype(int)\n",
    "\n",
    "    # рассчитываем удержание\n",
    "    result_grouped = result_raw.pivot_table(\n",
    "        index='first_week', columns='lifetime', values='user_id', aggfunc='nunique'\n",
    "    )\n",
    "    \n",
    "    # Размеры когорт\n",
    "    cohort_sizes = (\n",
    "        result_raw.groupby('first_week')\n",
    "        .agg({'user_id': 'nunique'})\n",
    "        .rename(columns={'user_id': 'cohort_size'})\n",
    "    )\n",
    "    result_grouped = cohort_sizes.merge(\n",
    "        result_grouped, on='first_week', how='left'\n",
    "    ).fillna(0)\n",
    "    result_grouped = result_grouped.div(result_grouped['cohort_size'], axis=0)\n",
    "\n",
    "    # исключаем все лайфтаймы, превышающие горизонт анализа\n",
    "    result_grouped = result_grouped[\n",
    "        ['cohort_size'] + list(range(horizon_weeks))\n",
    "    ]\n",
    "\n",
    "    # восстанавливаем столбец с размерами когорт\n",
    "    result_grouped['cohort_size'] = cohort_sizes\n",
    "\n",
    "    # возвращаем таблицу удержания и сырые данные\n",
    "    return result_raw, result_grouped"
   ]
  },
  {
   "cell_type": "code",
   "execution_count": 70,
   "id": "03d127cf",
   "metadata": {
    "scrolled": true
   },
   "outputs": [
    {
     "data": {
      "text/html": [
       "<div>\n",
       "<style scoped>\n",
       "    .dataframe tbody tr th:only-of-type {\n",
       "        vertical-align: middle;\n",
       "    }\n",
       "\n",
       "    .dataframe tbody tr th {\n",
       "        vertical-align: top;\n",
       "    }\n",
       "\n",
       "    .dataframe thead th {\n",
       "        text-align: right;\n",
       "    }\n",
       "</style>\n",
       "<table border=\"1\" class=\"dataframe\">\n",
       "  <thead>\n",
       "    <tr style=\"text-align: right;\">\n",
       "      <th></th>\n",
       "      <th>cohort_size</th>\n",
       "      <th>0</th>\n",
       "      <th>1</th>\n",
       "      <th>2</th>\n",
       "      <th>3</th>\n",
       "    </tr>\n",
       "    <tr>\n",
       "      <th>first_week</th>\n",
       "      <th></th>\n",
       "      <th></th>\n",
       "      <th></th>\n",
       "      <th></th>\n",
       "      <th></th>\n",
       "    </tr>\n",
       "  </thead>\n",
       "  <tbody>\n",
       "    <tr>\n",
       "      <th>2019-10-07</th>\n",
       "      <td>1068</td>\n",
       "      <td>1.0</td>\n",
       "      <td>0.187266</td>\n",
       "      <td>0.117978</td>\n",
       "      <td>0.077715</td>\n",
       "    </tr>\n",
       "  </tbody>\n",
       "</table>\n",
       "</div>"
      ],
      "text/plain": [
       "            cohort_size    0         1         2         3\n",
       "first_week                                                \n",
       "2019-10-07         1068  1.0  0.187266  0.117978  0.077715"
      ]
     },
     "execution_count": 70,
     "metadata": {},
     "output_type": "execute_result"
    }
   ],
   "source": [
    "# Удержание пользователей по неделям\n",
    "# Горизонт анализа - 4 недели (берем данные пришедших только в первую неделю)\n",
    "\n",
    "retention_week_raw, retention_week = get_week_retention(\n",
    "    profiles, sessions, datetime(2019, 11, 3).date(), 4\n",
    ")\n",
    "\n",
    "retention_week"
   ]
  },
  {
   "cell_type": "code",
   "execution_count": 71,
   "id": "2931e271",
   "metadata": {
    "scrolled": true
   },
   "outputs": [
    {
     "data": {
      "image/png": "[encoded data removed]",
      "text/plain": [
       "<Figure size 720x360 with 1 Axes>"
      ]
     },
     "metadata": {
      "needs_background": "light"
     },
     "output_type": "display_data"
    }
   ],
   "source": [
    "report = retention_week.drop(columns = ['cohort_size', 0])\n",
    "\n",
    "report.T.plot(\n",
    "    grid=True, \n",
    "    xticks=list(report.T.index), \n",
    "    figsize=(10, 5), \n",
    ")\n",
    "plt.xlabel('Лайфтайм') \n",
    "plt.ylabel('Удержание')\n",
    "plt.title('Кривая удержания') \n",
    "plt.show()"
   ]
  },
  {
   "cell_type": "markdown",
   "id": "e9dfea27",
   "metadata": {},
   "source": [
    "**Вывод:**"
   ]
  },
  {
   "cell_type": "markdown",
   "id": "74be4707",
   "metadata": {},
   "source": [
    "- **Удержание по неделям нормально передает динамику удержания пользователей**\n",
    "- **Во вторую неделю возвращается 20% пользователей, в третью - 13%, в четвертую - 9%**"
   ]
  },
  {
   "cell_type": "markdown",
   "id": "0bfd2e6d",
   "metadata": {},
   "source": [
    "#### Вывод по EDA"
   ]
  },
  {
   "cell_type": "markdown",
   "id": "3929e6da",
   "metadata": {},
   "source": [
    "- **События объеденены в сессии, средняя продолжительность сессии - 16 минут**\n",
    "- **У 75% пользователей сессии меньше 22 минут**\n",
    "- **Яндекс стабильно привлекает больше новых пользователей. В течение рассматриваемого периода привлечение новых пользователей снижается**\n",
    "- **В приложении совершается 2000-3000 действий в сутки. В течение рассматриваемого периодачастота действий растет**\n",
    "- **Средняя конверсия - 0.23, в течении рассматриваемого периода дневная конверсия растет**\n",
    "- **Retention rate во вторую неделю - 20%, в третью - 13%, в четвертую - 9%**"
   ]
  },
  {
   "cell_type": "markdown",
   "id": "e31c534a",
   "metadata": {},
   "source": [
    "## Сегментация пользователей"
   ]
  },
  {
   "cell_type": "markdown",
   "id": "e34583e9",
   "metadata": {},
   "source": [
    "**По данным EDA, помимо источника перехода, на конверсию может влиять время захода в приложение и среднее время сессии**"
   ]
  },
  {
   "cell_type": "markdown",
   "id": "88d59152",
   "metadata": {},
   "source": [
    "**Добавим индексацию пользователей, заходящих с 10 до 17 часов (когда конверсия выше)**"
   ]
  },
  {
   "cell_type": "code",
   "execution_count": 72,
   "id": "204a49bd",
   "metadata": {},
   "outputs": [],
   "source": [
    "# Время начала сессии\n",
    "sessions['start_time'] = sessions['start'].dt.time"
   ]
  },
  {
   "cell_type": "code",
   "execution_count": 73,
   "id": "9acd400e",
   "metadata": {},
   "outputs": [],
   "source": [
    "# Индексация пользователей, заходящих с 10 до 17 часов\n",
    "\n",
    "profiles['day_visitor'] = (\n",
    "    profiles['user_id'].isin(\n",
    "        sessions.query('start_time >= @time(10,0,0) & start_time < @time(17,0,0)')\n",
    "        ['user_id'].unique()\n",
    "    )\n",
    ")"
   ]
  },
  {
   "cell_type": "markdown",
   "id": "e190e34b",
   "metadata": {},
   "source": [
    "**Переведем источники перехода в отдельные столбцы для кластеризации**"
   ]
  },
  {
   "cell_type": "code",
   "execution_count": 74,
   "id": "4f12b739",
   "metadata": {},
   "outputs": [],
   "source": [
    "profiles['yandex'] = profiles['source']==\"yandex\"\n",
    "profiles['google'] = profiles['source']==\"google\"\n",
    "profiles['other'] = profiles['source']==\"other\""
   ]
  },
  {
   "cell_type": "markdown",
   "id": "4c8f64ca",
   "metadata": {},
   "source": [
    "### Разделение пользователей на группы"
   ]
  },
  {
   "cell_type": "markdown",
   "id": "f2d288b4",
   "metadata": {},
   "source": [
    "**Для кластеризации используем показатели: источник прихода, среднее время сессии, среднее число действий за сессию, наличие использования приложения с 10 до 17 часов, среднее число просмотров контактов в день**"
   ]
  },
  {
   "cell_type": "markdown",
   "id": "474453f3",
   "metadata": {},
   "source": [
    "#### Иерархическая кластеризация"
   ]
  },
  {
   "cell_type": "code",
   "execution_count": 75,
   "id": "32badab8",
   "metadata": {},
   "outputs": [],
   "source": [
    "# Случайная подвыборка для кластеризации\n",
    "X = profiles[['yandex', 'google', 'other', 'mean_duration', 'event_count', 'day_visitor', 'dayly_contacts_shown']].sample(n=500, axis=0)"
   ]
  },
  {
   "cell_type": "code",
   "execution_count": 76,
   "id": "d84a1706",
   "metadata": {},
   "outputs": [],
   "source": [
    "# Cтандартизация признаков\n",
    "sc = StandardScaler()\n",
    "X_sc = sc.fit_transform(X)"
   ]
  },
  {
   "cell_type": "code",
   "execution_count": 77,
   "id": "7671482c",
   "metadata": {},
   "outputs": [],
   "source": [
    "# Таблица связей\n",
    "linked = linkage(X_sc, method = 'ward')"
   ]
  },
  {
   "cell_type": "code",
   "execution_count": 78,
   "id": "77756e39",
   "metadata": {},
   "outputs": [
    {
     "data": {
      "image/png": "[encoded data removed]",
      "text/plain": [
       "<Figure size 720x360 with 1 Axes>"
      ]
     },
     "metadata": {
      "needs_background": "light"
     },
     "output_type": "display_data"
    }
   ],
   "source": [
    "# Построение дендрограммы\n",
    "plt.figure(figsize=(10, 5))  \n",
    "dendrogram(linked, orientation='top')\n",
    "plt.title('Hierarchial clustering')\n",
    "plt.show() "
   ]
  },
  {
   "cell_type": "markdown",
   "id": "5cb174f9",
   "metadata": {},
   "source": [
    "**Рекомендуемое число кластеров - 3 или 4 (3 крупных и один небольшой)**"
   ]
  },
  {
   "cell_type": "markdown",
   "id": "0a901ef7",
   "metadata": {},
   "source": [
    "#### K-means"
   ]
  },
  {
   "cell_type": "code",
   "execution_count": 79,
   "id": "e4951319",
   "metadata": {},
   "outputs": [],
   "source": [
    "# Признаки для анализа\n",
    "X = profiles[['yandex', 'google', 'other', 'mean_duration', 'event_count', 'day_visitor', 'dayly_contacts_shown']]"
   ]
  },
  {
   "cell_type": "code",
   "execution_count": 98,
   "id": "e36345d8",
   "metadata": {},
   "outputs": [],
   "source": [
    "# Стандартизация\n",
    "sc = StandardScaler()\n",
    "X_sc = sc.fit_transform(X)"
   ]
  },
  {
   "cell_type": "code",
   "execution_count": 99,
   "id": "90737df0",
   "metadata": {},
   "outputs": [],
   "source": [
    "# Определение кластеров\n",
    "km = KMeans(n_clusters=4, random_state=0)\n",
    "labels = km.fit_predict(X_sc)"
   ]
  },
  {
   "cell_type": "code",
   "execution_count": 100,
   "id": "9396fd31",
   "metadata": {},
   "outputs": [],
   "source": [
    "# Добавление номеров кластеров к профилям пользователей\n",
    "profiles['group'] = labels"
   ]
  },
  {
   "cell_type": "markdown",
   "id": "fbeca40c",
   "metadata": {},
   "source": [
    "### Сравнение групп"
   ]
  },
  {
   "cell_type": "code",
   "execution_count": 101,
   "id": "e3ab129d",
   "metadata": {},
   "outputs": [
    {
     "data": {
      "text/plain": [
       "2    1741\n",
       "3    1134\n",
       "1    1050\n",
       "0     281\n",
       "Name: group, dtype: int64"
      ]
     },
     "execution_count": 101,
     "metadata": {},
     "output_type": "execute_result"
    }
   ],
   "source": [
    "profiles['group'].value_counts()"
   ]
  },
  {
   "cell_type": "markdown",
   "id": "0b916a58",
   "metadata": {},
   "source": [
    "**Пользователи образовали три крупных кластера и один небольшой**"
   ]
  },
  {
   "cell_type": "code",
   "execution_count": 102,
   "id": "276c64c4",
   "metadata": {},
   "outputs": [
    {
     "data": {
      "text/html": [
       "<div>\n",
       "<style scoped>\n",
       "    .dataframe tbody tr th:only-of-type {\n",
       "        vertical-align: middle;\n",
       "    }\n",
       "\n",
       "    .dataframe tbody tr th {\n",
       "        vertical-align: top;\n",
       "    }\n",
       "\n",
       "    .dataframe thead th {\n",
       "        text-align: right;\n",
       "    }\n",
       "</style>\n",
       "<table border=\"1\" class=\"dataframe\">\n",
       "  <thead>\n",
       "    <tr style=\"text-align: right;\">\n",
       "      <th></th>\n",
       "      <th>buyer</th>\n",
       "      <th>contacts_shown</th>\n",
       "      <th>dayly_contacts_shown</th>\n",
       "      <th>mean_duration</th>\n",
       "      <th>event_count</th>\n",
       "      <th>day_visitor</th>\n",
       "      <th>yandex</th>\n",
       "      <th>google</th>\n",
       "      <th>other</th>\n",
       "    </tr>\n",
       "    <tr>\n",
       "      <th>group</th>\n",
       "      <th></th>\n",
       "      <th></th>\n",
       "      <th></th>\n",
       "      <th></th>\n",
       "      <th></th>\n",
       "      <th></th>\n",
       "      <th></th>\n",
       "      <th></th>\n",
       "      <th></th>\n",
       "    </tr>\n",
       "  </thead>\n",
       "  <tbody>\n",
       "    <tr>\n",
       "      <th>0</th>\n",
       "      <td>0.348754</td>\n",
       "      <td>4.750890</td>\n",
       "      <td>0.539921</td>\n",
       "      <td>56.682003</td>\n",
       "      <td>30.658457</td>\n",
       "      <td>0.530249</td>\n",
       "      <td>0.551601</td>\n",
       "      <td>0.227758</td>\n",
       "      <td>0.220641</td>\n",
       "    </tr>\n",
       "    <tr>\n",
       "      <th>1</th>\n",
       "      <td>0.233333</td>\n",
       "      <td>0.815238</td>\n",
       "      <td>0.075178</td>\n",
       "      <td>13.982503</td>\n",
       "      <td>7.697176</td>\n",
       "      <td>0.539048</td>\n",
       "      <td>0.000000</td>\n",
       "      <td>1.000000</td>\n",
       "      <td>0.000000</td>\n",
       "    </tr>\n",
       "    <tr>\n",
       "      <th>2</th>\n",
       "      <td>0.241241</td>\n",
       "      <td>0.811028</td>\n",
       "      <td>0.071574</td>\n",
       "      <td>13.423766</td>\n",
       "      <td>7.241398</td>\n",
       "      <td>0.572085</td>\n",
       "      <td>1.000000</td>\n",
       "      <td>0.000000</td>\n",
       "      <td>0.000000</td>\n",
       "    </tr>\n",
       "    <tr>\n",
       "      <th>3</th>\n",
       "      <td>0.184303</td>\n",
       "      <td>0.672840</td>\n",
       "      <td>0.066030</td>\n",
       "      <td>11.701694</td>\n",
       "      <td>7.103051</td>\n",
       "      <td>0.579365</td>\n",
       "      <td>0.000000</td>\n",
       "      <td>0.000000</td>\n",
       "      <td>1.000000</td>\n",
       "    </tr>\n",
       "  </tbody>\n",
       "</table>\n",
       "</div>"
      ],
      "text/plain": [
       "          buyer  contacts_shown  dayly_contacts_shown  mean_duration  \\\n",
       "group                                                                  \n",
       "0      0.348754        4.750890              0.539921      56.682003   \n",
       "1      0.233333        0.815238              0.075178      13.982503   \n",
       "2      0.241241        0.811028              0.071574      13.423766   \n",
       "3      0.184303        0.672840              0.066030      11.701694   \n",
       "\n",
       "       event_count  day_visitor    yandex    google     other  \n",
       "group                                                          \n",
       "0        30.658457     0.530249  0.551601  0.227758  0.220641  \n",
       "1         7.697176     0.539048  0.000000  1.000000  0.000000  \n",
       "2         7.241398     0.572085  1.000000  0.000000  0.000000  \n",
       "3         7.103051     0.579365  0.000000  0.000000  1.000000  "
      ]
     },
     "execution_count": 102,
     "metadata": {},
     "output_type": "execute_result"
    }
   ],
   "source": [
    "profiles.groupby('group').mean()"
   ]
  },
  {
   "cell_type": "markdown",
   "id": "b52746ec",
   "metadata": {},
   "source": [
    "**Описание кластеров:**\n",
    "- **0 - Активные пользователи. Переходят из разных источников, но в основном из Яндекса, очень длинные сессии (56 минут) с большим количеством действий, самая высокая конверсия (0.37), большое число просмотров контактов (в среднем почти 6 за день)**\n",
    "- **1 - Гугл. 2 - Яндекс. В обеих группах похожая конверсия (0.23-0.24), средняя длина сессии (14 минут), просмотров контактов за день в среднем чуть больше у пользователей из Яндекса**\n",
    "- **3 - Другие источники. Наименьшая длина сессии (12 минут) и конверсия (0.18)**"
   ]
  },
  {
   "cell_type": "code",
   "execution_count": 103,
   "id": "441d7c9e",
   "metadata": {},
   "outputs": [],
   "source": [
    "profiles['group'] = profiles['group'].replace({0:'Актив', 1:'Google', 2:'Яндекс', 3:'Другие'})"
   ]
  },
  {
   "cell_type": "markdown",
   "id": "7b321266",
   "metadata": {},
   "source": [
    "#### Конверсия"
   ]
  },
  {
   "cell_type": "markdown",
   "id": "3971d99a",
   "metadata": {},
   "source": [
    "**Отдельно оценка конверсии (хотя она уже оценена по столбцу buyer)**"
   ]
  },
  {
   "cell_type": "code",
   "execution_count": 104,
   "id": "27d53173",
   "metadata": {},
   "outputs": [],
   "source": [
    "# Таблица конверсии для кластеров\n",
    "group_conversion = profiles.groupby('group').agg({'buyer':['sum', 'count']})\n",
    "group_conversion.columns=(['sum', 'count'])\n",
    "group_conversion['conversion'] = group_conversion['sum'] / group_conversion['count']"
   ]
  },
  {
   "cell_type": "code",
   "execution_count": 105,
   "id": "ec5f631f",
   "metadata": {},
   "outputs": [
    {
     "data": {
      "text/html": [
       "<div>\n",
       "<style scoped>\n",
       "    .dataframe tbody tr th:only-of-type {\n",
       "        vertical-align: middle;\n",
       "    }\n",
       "\n",
       "    .dataframe tbody tr th {\n",
       "        vertical-align: top;\n",
       "    }\n",
       "\n",
       "    .dataframe thead th {\n",
       "        text-align: right;\n",
       "    }\n",
       "</style>\n",
       "<table border=\"1\" class=\"dataframe\">\n",
       "  <thead>\n",
       "    <tr style=\"text-align: right;\">\n",
       "      <th></th>\n",
       "      <th>sum</th>\n",
       "      <th>count</th>\n",
       "      <th>conversion</th>\n",
       "    </tr>\n",
       "    <tr>\n",
       "      <th>group</th>\n",
       "      <th></th>\n",
       "      <th></th>\n",
       "      <th></th>\n",
       "    </tr>\n",
       "  </thead>\n",
       "  <tbody>\n",
       "    <tr>\n",
       "      <th>Google</th>\n",
       "      <td>245</td>\n",
       "      <td>1050</td>\n",
       "      <td>0.233333</td>\n",
       "    </tr>\n",
       "    <tr>\n",
       "      <th>Актив</th>\n",
       "      <td>98</td>\n",
       "      <td>281</td>\n",
       "      <td>0.348754</td>\n",
       "    </tr>\n",
       "    <tr>\n",
       "      <th>Другие</th>\n",
       "      <td>209</td>\n",
       "      <td>1134</td>\n",
       "      <td>0.184303</td>\n",
       "    </tr>\n",
       "    <tr>\n",
       "      <th>Яндекс</th>\n",
       "      <td>420</td>\n",
       "      <td>1741</td>\n",
       "      <td>0.241241</td>\n",
       "    </tr>\n",
       "  </tbody>\n",
       "</table>\n",
       "</div>"
      ],
      "text/plain": [
       "        sum  count  conversion\n",
       "group                         \n",
       "Google  245   1050    0.233333\n",
       "Актив    98    281    0.348754\n",
       "Другие  209   1134    0.184303\n",
       "Яндекс  420   1741    0.241241"
      ]
     },
     "execution_count": 105,
     "metadata": {},
     "output_type": "execute_result"
    }
   ],
   "source": [
    "group_conversion"
   ]
  },
  {
   "cell_type": "markdown",
   "id": "8d407d17",
   "metadata": {},
   "source": [
    "**Лучшая конверсия у активных пользователей, худшая - у пользователей из других источников**"
   ]
  },
  {
   "cell_type": "markdown",
   "id": "584e58cf",
   "metadata": {},
   "source": [
    "#### Retention rate"
   ]
  },
  {
   "cell_type": "code",
   "execution_count": 106,
   "id": "fe10084e",
   "metadata": {
    "scrolled": true
   },
   "outputs": [
    {
     "data": {
      "image/png": "[encoded data removed]",
      "text/plain": [
       "<Figure size 720x360 with 1 Axes>"
      ]
     },
     "metadata": {
      "needs_background": "light"
     },
     "output_type": "display_data"
    }
   ],
   "source": [
    "# График удержания по неделям для разных групп\n",
    "\n",
    "plt.figure(figsize=(10, 5))\n",
    "labels=[]\n",
    "\n",
    "# Таблицы удержания для каждой группы\n",
    "for i in profiles['group'].unique():\n",
    "    retention_week_raw_group, retention_week_group = get_week_retention(\n",
    "        profiles.query('group==@i'),\n",
    "        sessions,\n",
    "        datetime(2019, 11, 3).date(),\n",
    "        4\n",
    "    )\n",
    "    \n",
    "    report = retention_week_group.drop(columns = ['cohort_size', 0])\n",
    "    \n",
    "    # Графики удержания для каждой группы\n",
    "    plt.plot(report.T)\n",
    "    plt.grid=True, \n",
    "    plt.xticks=list(report.T.index)\n",
    "    labels.append(i)\n",
    "\n",
    "# Оформление итогового графика\n",
    "plt.legend(title='Сегмент', labels=labels)\n",
    "plt.xlabel('Лайфтайм') \n",
    "plt.ylabel('Удержание')\n",
    "plt.title('Кривая удержания') \n",
    "plt.show()"
   ]
  },
  {
   "cell_type": "markdown",
   "id": "97c442b7",
   "metadata": {},
   "source": [
    "**Удержание ко 2-й и 3-й неделе лучше у пользователей из других источников.**  \n",
    "**Удержание Яндекса резко снижается к 3-й неделе**  \n",
    "**На последней неделе в топ выходит удержание у Активных пользователей, которое растет по сравнению с третьей неделей - видимо это эффект того, что этих пользователей мало, и даже недельное удержание плохо передает их поведение**"
   ]
  },
  {
   "cell_type": "markdown",
   "id": "bcd265d2",
   "metadata": {},
   "source": [
    "## Проверка гипотез"
   ]
  },
  {
   "cell_type": "markdown",
   "id": "4c138305",
   "metadata": {},
   "source": [
    "### Пользователи из гугла и яндекса различаются по конверсии"
   ]
  },
  {
   "cell_type": "markdown",
   "id": "4e14d948",
   "metadata": {},
   "source": [
    "**Нулевая гипотеза - конверсия пользователей из Яндекса и Гугла одинакова**"
   ]
  },
  {
   "cell_type": "code",
   "execution_count": 107,
   "id": "e5bfecf4",
   "metadata": {},
   "outputs": [
    {
     "data": {
      "text/html": [
       "<div>\n",
       "<style scoped>\n",
       "    .dataframe tbody tr th:only-of-type {\n",
       "        vertical-align: middle;\n",
       "    }\n",
       "\n",
       "    .dataframe tbody tr th {\n",
       "        vertical-align: top;\n",
       "    }\n",
       "\n",
       "    .dataframe thead th {\n",
       "        text-align: right;\n",
       "    }\n",
       "</style>\n",
       "<table border=\"1\" class=\"dataframe\">\n",
       "  <thead>\n",
       "    <tr style=\"text-align: right;\">\n",
       "      <th></th>\n",
       "      <th>buyer</th>\n",
       "      <th>total</th>\n",
       "      <th>conversion</th>\n",
       "    </tr>\n",
       "    <tr>\n",
       "      <th>source</th>\n",
       "      <th></th>\n",
       "      <th></th>\n",
       "      <th></th>\n",
       "    </tr>\n",
       "  </thead>\n",
       "  <tbody>\n",
       "    <tr>\n",
       "      <th>google</th>\n",
       "      <td>273</td>\n",
       "      <td>1114</td>\n",
       "      <td>0.245063</td>\n",
       "    </tr>\n",
       "    <tr>\n",
       "      <th>other</th>\n",
       "      <td>224</td>\n",
       "      <td>1196</td>\n",
       "      <td>0.187291</td>\n",
       "    </tr>\n",
       "    <tr>\n",
       "      <th>yandex</th>\n",
       "      <td>475</td>\n",
       "      <td>1896</td>\n",
       "      <td>0.250527</td>\n",
       "    </tr>\n",
       "  </tbody>\n",
       "</table>\n",
       "</div>"
      ],
      "text/plain": [
       "        buyer  total  conversion\n",
       "source                          \n",
       "google    273   1114    0.245063\n",
       "other     224   1196    0.187291\n",
       "yandex    475   1896    0.250527"
      ]
     },
     "execution_count": 107,
     "metadata": {},
     "output_type": "execute_result"
    }
   ],
   "source": [
    "# Конверсия по источникам\n",
    "source_conversion = profiles.groupby('source').agg({'buyer':['sum', 'count']})\n",
    "source_conversion.columns=('buyer', 'total')\n",
    "source_conversion['conversion'] = source_conversion['buyer'] / source_conversion['total']\n",
    "source_conversion"
   ]
  },
  {
   "cell_type": "code",
   "execution_count": 108,
   "id": "f5c8eeab",
   "metadata": {},
   "outputs": [],
   "source": [
    "# Расчет Z-критерия\n",
    "p1 = source_conversion.loc['google', 'conversion']\n",
    "p2 = source_conversion.loc['yandex', 'conversion']\n",
    "\n",
    "p_combined = (\n",
    "    (source_conversion.loc['google', 'buyer'] + source_conversion.loc['yandex', 'buyer'])\n",
    "    /\n",
    "    (source_conversion.loc['google', 'total'] + source_conversion.loc['yandex', 'total'])\n",
    ")\n",
    "\n",
    "z_value = (p1 - p2) / math.sqrt(p_combined * (1 - p_combined) * (1/source_conversion.loc['google', 'total'] + 1/source_conversion.loc['yandex', 'total']))"
   ]
  },
  {
   "cell_type": "code",
   "execution_count": 109,
   "id": "4eebb80f",
   "metadata": {},
   "outputs": [],
   "source": [
    "# Нормальное распределение и p-value\n",
    "distr = st.norm(0, 1)\n",
    "p_value = (1 - distr.cdf(abs(z_value))) * 2"
   ]
  },
  {
   "cell_type": "code",
   "execution_count": 110,
   "id": "0b3af40a",
   "metadata": {},
   "outputs": [
    {
     "name": "stdout",
     "output_type": "stream",
     "text": [
      "p_value: 0.74\n",
      "Не получилось отвергнуть H0\n"
     ]
    }
   ],
   "source": [
    "# Проверка достоверности\n",
    "\n",
    "alpha = 0.05\n",
    "\n",
    "print ('p_value: {:.2}'.format(p_value))\n",
    "if p_value > alpha:\n",
    "    print ('Не получилось отвергнуть H0')\n",
    "elif p_value <= alpha:\n",
    "    print ('Можно отвергнуть H0')"
   ]
  },
  {
   "cell_type": "markdown",
   "id": "f823d248",
   "metadata": {},
   "source": [
    "**Пользователи из Яндекса и Гугла не отличаются по конверсии с достаточной значимостью**"
   ]
  },
  {
   "cell_type": "markdown",
   "id": "3f982c7f",
   "metadata": {},
   "source": [
    "### Пользователи заходящие в разное время различаются по конверсии"
   ]
  },
  {
   "cell_type": "markdown",
   "id": "97541050",
   "metadata": {},
   "source": [
    "**Так как конверсия днем (с 10 до 17) была выше, чем в остальное время, возможно разделить пользователей на 2 группы по времени захода в приложение**"
   ]
  },
  {
   "cell_type": "markdown",
   "id": "9fafdd48",
   "metadata": {},
   "source": [
    "**Нулевая гипотеза - конверсия дневных пользователей и остальных одинакова**"
   ]
  },
  {
   "cell_type": "code",
   "execution_count": 111,
   "id": "fca0560e",
   "metadata": {},
   "outputs": [
    {
     "data": {
      "text/html": [
       "<div>\n",
       "<style scoped>\n",
       "    .dataframe tbody tr th:only-of-type {\n",
       "        vertical-align: middle;\n",
       "    }\n",
       "\n",
       "    .dataframe tbody tr th {\n",
       "        vertical-align: top;\n",
       "    }\n",
       "\n",
       "    .dataframe thead th {\n",
       "        text-align: right;\n",
       "    }\n",
       "</style>\n",
       "<table border=\"1\" class=\"dataframe\">\n",
       "  <thead>\n",
       "    <tr style=\"text-align: right;\">\n",
       "      <th></th>\n",
       "      <th>buyer</th>\n",
       "      <th>total</th>\n",
       "      <th>conversion</th>\n",
       "    </tr>\n",
       "    <tr>\n",
       "      <th>day_visitor</th>\n",
       "      <th></th>\n",
       "      <th></th>\n",
       "      <th></th>\n",
       "    </tr>\n",
       "  </thead>\n",
       "  <tbody>\n",
       "    <tr>\n",
       "      <th>False</th>\n",
       "      <td>305</td>\n",
       "      <td>1838</td>\n",
       "      <td>0.165941</td>\n",
       "    </tr>\n",
       "    <tr>\n",
       "      <th>True</th>\n",
       "      <td>667</td>\n",
       "      <td>2368</td>\n",
       "      <td>0.281672</td>\n",
       "    </tr>\n",
       "  </tbody>\n",
       "</table>\n",
       "</div>"
      ],
      "text/plain": [
       "             buyer  total  conversion\n",
       "day_visitor                          \n",
       "False          305   1838    0.165941\n",
       "True           667   2368    0.281672"
      ]
     },
     "execution_count": 111,
     "metadata": {},
     "output_type": "execute_result"
    }
   ],
   "source": [
    "# Конверсия по наличию дневных заходов\n",
    "\n",
    "time_conversion = profiles.groupby('day_visitor').agg({'buyer':['sum', 'count']})\n",
    "time_conversion.columns=('buyer', 'total')\n",
    "time_conversion['conversion'] = time_conversion['buyer'] / time_conversion['total']\n",
    "time_conversion"
   ]
  },
  {
   "cell_type": "code",
   "execution_count": 112,
   "id": "9413a9c1",
   "metadata": {},
   "outputs": [],
   "source": [
    "# Расчет Z-критерия\n",
    "p1 = time_conversion.loc[True, 'conversion']\n",
    "p2 = time_conversion.loc[False, 'conversion']\n",
    "\n",
    "p_combined = (\n",
    "    (time_conversion.loc[True, 'buyer'] + time_conversion.loc[False, 'buyer'])\n",
    "    /\n",
    "    (time_conversion.loc[True, 'total'] + time_conversion.loc[False, 'total'])\n",
    ")\n",
    "\n",
    "z_value = (p1 - p2) / math.sqrt(p_combined * (1 - p_combined) * (1/time_conversion.loc[True, 'total'] + 1/time_conversion.loc[False, 'total']))"
   ]
  },
  {
   "cell_type": "code",
   "execution_count": 113,
   "id": "f3aae483",
   "metadata": {},
   "outputs": [],
   "source": [
    "# Нормальное распределение и p-value\n",
    "distr = st.norm(0, 1)\n",
    "p_value = (1 - distr.cdf(abs(z_value))) * 2"
   ]
  },
  {
   "cell_type": "code",
   "execution_count": 114,
   "id": "790988f6",
   "metadata": {
    "scrolled": true
   },
   "outputs": [
    {
     "name": "stdout",
     "output_type": "stream",
     "text": [
      "p_value: 0.0\n",
      "Можно отвергнуть H0\n"
     ]
    }
   ],
   "source": [
    "# Проверка достоверности\n",
    "\n",
    "alpha = 0.05\n",
    "\n",
    "print ('p_value: {:.2}'.format(p_value))\n",
    "if p_value > alpha:\n",
    "    print ('Не получилось отвергнуть H0')\n",
    "elif p_value <= alpha:\n",
    "    print ('Можно отвергнуть H0')"
   ]
  },
  {
   "cell_type": "markdown",
   "id": "836365f4",
   "metadata": {},
   "source": [
    "**Конверсия с 10 до 17 и в остальное время статистически значимо различается**"
   ]
  },
  {
   "cell_type": "markdown",
   "id": "93bb07cb",
   "metadata": {},
   "source": [
    "## Выводы"
   ]
  },
  {
   "cell_type": "markdown",
   "id": "b5e5bfbd",
   "metadata": {},
   "source": [
    "### Поведение пользователей"
   ]
  },
  {
   "cell_type": "markdown",
   "id": "46f03bd4",
   "metadata": {},
   "source": [
    "- **Активность пользователей выше всего в понедельник, снижается в течении недели, ниже всего - в субботу**\n",
    "- **Больше всего событий совершают в районе обеда (14-16 часов) и вечером (20-21 час), локальный минимум - 17-19 часов**\n",
    "- **Общая конверсия в просмотр контактов за рассматриваемый период - 0.23**\n",
    "- **Конверсия за рассматриваемый период растет**\n",
    "- **Наибольшая конверсия - в дневной период (с 10 до 17 часов)**"
   ]
  },
  {
   "cell_type": "markdown",
   "id": "fcc27171",
   "metadata": {},
   "source": [
    "### Привлечение новых пользователей\n",
    "- **Яндекс стабильно привлекает больше новых пользователей**\n",
    "- **Гугл и другие источники привлекают примерно одинаковое число пользователей**\n",
    "- **В течение рассматриваемого периода привлечение новых пользователей снижается**"
   ]
  },
  {
   "cell_type": "markdown",
   "id": "9cfa76c7",
   "metadata": {},
   "source": [
    "### Сегментация пользователей"
   ]
  },
  {
   "cell_type": "markdown",
   "id": "2738e532",
   "metadata": {},
   "source": [
    "- **Пользователей можно разделить на 4 сегмента: по источнику привлечения (Яндекс, Гугл, Другое) и небольшой кластер наиболее активных пользователей**\n",
    "- **Наибольшая конверсия - у активных пользователей (0.34), у Яндекса и Гугла - 0.23-0.24, наименьшая - у пользователей из других источников (0.18)**\n",
    "- **Удержание у Гугла лучше, чем у Яндекса. Самое низкое - у других источников**"
   ]
  },
  {
   "cell_type": "markdown",
   "id": "d3eda3ad",
   "metadata": {},
   "source": [
    "### Проверка гипотез"
   ]
  },
  {
   "cell_type": "markdown",
   "id": "1d6494b9",
   "metadata": {},
   "source": [
    "- **Яндекс и Гугл не отличаются по конверсии при alpha=0.05**\n",
    "- **Конверсия у дневных пользователей (10-17 часов) и остальных различается при alpha=0.05**"
   ]
  },
  {
   "cell_type": "markdown",
   "id": "0c9bc765",
   "metadata": {},
   "source": [
    "## Рекомендации для отдела маркетинга"
   ]
  },
  {
   "cell_type": "markdown",
   "id": "d575c6e1",
   "metadata": {},
   "source": [
    "- **Наиболее ценные клиенты - небольшая группа активных пользователей, которые отличаются долгими сессиями с большим количеством действий и высокой конверсией. Стоит удержать их, возможно предложив какие-либо особые условия**\n",
    "- **Удержание у Яндекса провисает. Возможно стоит запустить какие-либо напоминания или лучшие рекомендации для пользователей, пришедших из Яндекса**\n",
    "- **Пользователи из других источников кроме Яндекса и Гугла - наименее активные клиенты. Ориентировать рекламные затраты на другие источники представляется нецелесообразным**\n",
    "- **За рассматриваемый период снижается привлечение новых пользователей в приложение. Стоит пересмотреть рекламный бюджет. Рекомендуется направить его на Яндекс, так как он привлекает больше пользователей, в том числе в группу активных клиентов**"
   ]
  },
  {
   "cell_type": "markdown",
   "id": "dcad21f9",
   "metadata": {},
   "source": [
    "## Презентация"
   ]
  },
  {
   "cell_type": "markdown",
   "id": "bf92f6c6",
   "metadata": {},
   "source": [
    "https://drive.google.com/file/d/1cOfqQpCuUSQlyqZpPbnQBCrOA1m_LXkM/view?usp=sharing"
   ]
  }
 ],
 "metadata": {
  "ExecuteTimeLog": [
   {
    "duration": 1874,
    "start_time": "2022-10-04T14:05:07.012Z"
   },
   {
    "duration": 156,
    "start_time": "2022-10-04T14:05:08.888Z"
   },
   {
    "duration": 53,
    "start_time": "2022-10-04T14:05:09.046Z"
   },
   {
    "duration": 17,
    "start_time": "2022-10-04T14:05:09.102Z"
   },
   {
    "duration": 18,
    "start_time": "2022-10-04T14:05:09.121Z"
   },
   {
    "duration": 3,
    "start_time": "2022-10-04T14:05:09.141Z"
   },
   {
    "duration": 35,
    "start_time": "2022-10-04T14:05:09.145Z"
   },
   {
    "duration": 28,
    "start_time": "2022-10-04T14:05:09.200Z"
   },
   {
    "duration": 72,
    "start_time": "2022-10-04T14:05:09.230Z"
   },
   {
    "duration": 15,
    "start_time": "2022-10-04T14:05:09.306Z"
   },
   {
    "duration": 11,
    "start_time": "2022-10-04T14:05:09.324Z"
   },
   {
    "duration": 8,
    "start_time": "2022-10-04T14:05:09.337Z"
   },
   {
    "duration": 17,
    "start_time": "2022-10-04T14:05:09.347Z"
   },
   {
    "duration": 8,
    "start_time": "2022-10-04T14:05:09.367Z"
   },
   {
    "duration": 36,
    "start_time": "2022-10-04T14:05:09.401Z"
   },
   {
    "duration": 17,
    "start_time": "2022-10-04T14:05:09.439Z"
   },
   {
    "duration": 23,
    "start_time": "2022-10-04T14:05:09.458Z"
   },
   {
    "duration": 21,
    "start_time": "2022-10-04T14:05:09.484Z"
   },
   {
    "duration": 5,
    "start_time": "2022-10-04T14:05:09.507Z"
   },
   {
    "duration": 6,
    "start_time": "2022-10-04T14:05:09.514Z"
   },
   {
    "duration": 11,
    "start_time": "2022-10-04T14:05:09.522Z"
   },
   {
    "duration": 12,
    "start_time": "2022-10-04T14:05:09.535Z"
   },
   {
    "duration": 9,
    "start_time": "2022-10-04T14:05:09.549Z"
   },
   {
    "duration": 42111,
    "start_time": "2022-10-04T14:05:09.560Z"
   },
   {
    "duration": 227,
    "start_time": "2022-10-04T14:05:51.673Z"
   },
   {
    "duration": 149,
    "start_time": "2022-10-04T14:05:51.902Z"
   },
   {
    "duration": 10,
    "start_time": "2022-10-04T14:05:52.053Z"
   },
   {
    "duration": 158,
    "start_time": "2022-10-04T14:05:52.067Z"
   },
   {
    "duration": 12,
    "start_time": "2022-10-04T14:05:52.226Z"
   },
   {
    "duration": 21,
    "start_time": "2022-10-04T14:05:52.240Z"
   },
   {
    "duration": 20,
    "start_time": "2022-10-04T14:05:52.263Z"
   },
   {
    "duration": 302,
    "start_time": "2022-10-04T14:05:52.285Z"
   },
   {
    "duration": 185,
    "start_time": "2022-10-04T14:05:52.589Z"
   },
   {
    "duration": 8,
    "start_time": "2022-10-04T14:05:52.776Z"
   },
   {
    "duration": 14,
    "start_time": "2022-10-04T14:05:52.786Z"
   },
   {
    "duration": 5,
    "start_time": "2022-10-04T14:05:52.802Z"
   },
   {
    "duration": 8,
    "start_time": "2022-10-04T14:05:52.808Z"
   },
   {
    "duration": 9,
    "start_time": "2022-10-04T14:05:52.817Z"
   },
   {
    "duration": 22,
    "start_time": "2022-10-04T14:05:52.827Z"
   },
   {
    "duration": 13,
    "start_time": "2022-10-04T14:05:52.851Z"
   },
   {
    "duration": 77,
    "start_time": "2022-10-04T14:05:52.865Z"
   },
   {
    "duration": 6,
    "start_time": "2022-10-04T14:05:52.944Z"
   },
   {
    "duration": 23,
    "start_time": "2022-10-04T14:05:52.952Z"
   },
   {
    "duration": 8,
    "start_time": "2022-10-04T14:05:52.977Z"
   },
   {
    "duration": 42,
    "start_time": "2022-10-04T14:05:52.987Z"
   },
   {
    "duration": 163,
    "start_time": "2022-10-04T14:05:53.030Z"
   },
   {
    "duration": 150,
    "start_time": "2022-10-04T14:05:53.201Z"
   },
   {
    "duration": 28,
    "start_time": "2022-10-04T14:05:53.353Z"
   },
   {
    "duration": 160,
    "start_time": "2022-10-04T14:05:53.383Z"
   },
   {
    "duration": 10,
    "start_time": "2022-10-04T14:05:53.545Z"
   },
   {
    "duration": 18,
    "start_time": "2022-10-04T14:05:53.557Z"
   },
   {
    "duration": 12,
    "start_time": "2022-10-04T14:05:53.577Z"
   },
   {
    "duration": 20,
    "start_time": "2022-10-04T14:05:53.590Z"
   },
   {
    "duration": 6,
    "start_time": "2022-10-04T14:05:53.611Z"
   },
   {
    "duration": 8,
    "start_time": "2022-10-04T14:05:53.619Z"
   },
   {
    "duration": 211,
    "start_time": "2022-10-04T14:05:53.628Z"
   },
   {
    "duration": 5,
    "start_time": "2022-10-04T14:05:53.841Z"
   },
   {
    "duration": 274,
    "start_time": "2022-10-04T14:05:53.847Z"
   },
   {
    "duration": 7,
    "start_time": "2022-10-04T14:05:54.123Z"
   },
   {
    "duration": 12,
    "start_time": "2022-10-04T14:05:54.132Z"
   },
   {
    "duration": 8,
    "start_time": "2022-10-04T14:05:54.146Z"
   },
   {
    "duration": 62,
    "start_time": "2022-10-04T14:05:54.156Z"
   },
   {
    "duration": 1238,
    "start_time": "2022-10-04T14:05:54.220Z"
   },
   {
    "duration": 5,
    "start_time": "2022-10-04T14:05:55.460Z"
   },
   {
    "duration": 59,
    "start_time": "2022-10-04T14:05:55.467Z"
   },
   {
    "duration": 16,
    "start_time": "2022-10-04T14:05:55.528Z"
   },
   {
    "duration": 20,
    "start_time": "2022-10-04T14:05:55.546Z"
   },
   {
    "duration": 45,
    "start_time": "2022-10-04T14:05:55.568Z"
   },
   {
    "duration": 151,
    "start_time": "2022-10-04T14:05:55.615Z"
   },
   {
    "duration": 8,
    "start_time": "2022-10-04T14:05:55.768Z"
   },
   {
    "duration": 29,
    "start_time": "2022-10-04T14:05:55.778Z"
   },
   {
    "duration": 14,
    "start_time": "2022-10-04T14:05:55.816Z"
   },
   {
    "duration": 8,
    "start_time": "2022-10-04T14:05:55.832Z"
   },
   {
    "duration": 15,
    "start_time": "2022-10-04T14:05:55.841Z"
   },
   {
    "duration": 14,
    "start_time": "2022-10-04T14:05:55.858Z"
   },
   {
    "duration": 12758,
    "start_time": "2022-10-04T14:05:55.874Z"
   },
   {
    "duration": 3,
    "start_time": "2022-10-04T14:06:08.634Z"
   },
   {
    "duration": 16,
    "start_time": "2022-10-04T14:06:08.639Z"
   },
   {
    "duration": 453,
    "start_time": "2022-10-04T14:06:08.656Z"
   },
   {
    "duration": 3,
    "start_time": "2022-10-04T14:06:09.200Z"
   },
   {
    "duration": 7,
    "start_time": "2022-10-04T14:06:09.205Z"
   },
   {
    "duration": 14,
    "start_time": "2022-10-04T14:06:09.217Z"
   },
   {
    "duration": 7,
    "start_time": "2022-10-04T14:06:09.232Z"
   },
   {
    "duration": 14,
    "start_time": "2022-10-04T14:06:09.241Z"
   },
   {
    "duration": 344,
    "start_time": "2022-10-04T14:06:09.256Z"
   },
   {
    "duration": 12,
    "start_time": "2022-10-04T14:06:09.602Z"
   },
   {
    "duration": 3,
    "start_time": "2022-10-04T14:06:09.616Z"
   },
   {
    "duration": 14,
    "start_time": "2022-10-04T14:06:09.621Z"
   },
   {
    "duration": 6,
    "start_time": "2022-10-04T14:06:09.637Z"
   },
   {
    "duration": 18,
    "start_time": "2022-10-04T14:06:09.645Z"
   },
   {
    "duration": 7,
    "start_time": "2022-10-04T14:06:09.665Z"
   },
   {
    "duration": 14,
    "start_time": "2022-10-04T14:06:09.673Z"
   },
   {
    "duration": 5,
    "start_time": "2022-10-04T14:06:09.699Z"
   },
   {
    "duration": 1923,
    "start_time": "2022-10-04T14:09:28.472Z"
   },
   {
    "duration": 162,
    "start_time": "2022-10-04T14:09:30.396Z"
   },
   {
    "duration": 97,
    "start_time": "2022-10-04T14:09:30.560Z"
   },
   {
    "duration": 55,
    "start_time": "2022-10-04T14:09:30.659Z"
   },
   {
    "duration": 34,
    "start_time": "2022-10-04T14:09:30.716Z"
   },
   {
    "duration": 48,
    "start_time": "2022-10-04T14:09:30.752Z"
   },
   {
    "duration": 99,
    "start_time": "2022-10-04T14:09:30.802Z"
   },
   {
    "duration": 23,
    "start_time": "2022-10-04T14:09:30.903Z"
   },
   {
    "duration": 93,
    "start_time": "2022-10-04T14:09:30.927Z"
   },
   {
    "duration": 9,
    "start_time": "2022-10-04T14:09:31.023Z"
   },
   {
    "duration": 70,
    "start_time": "2022-10-04T14:09:31.034Z"
   },
   {
    "duration": 46,
    "start_time": "2022-10-04T14:09:31.106Z"
   },
   {
    "duration": 53,
    "start_time": "2022-10-04T14:09:31.154Z"
   },
   {
    "duration": 8,
    "start_time": "2022-10-04T14:09:31.208Z"
   },
   {
    "duration": 84,
    "start_time": "2022-10-04T14:09:31.217Z"
   },
   {
    "duration": 19,
    "start_time": "2022-10-04T14:09:31.303Z"
   },
   {
    "duration": 13,
    "start_time": "2022-10-04T14:09:31.323Z"
   },
   {
    "duration": 10,
    "start_time": "2022-10-04T14:09:31.338Z"
   },
   {
    "duration": 10,
    "start_time": "2022-10-04T14:09:31.349Z"
   },
   {
    "duration": 51,
    "start_time": "2022-10-04T14:09:31.361Z"
   },
   {
    "duration": 17,
    "start_time": "2022-10-04T14:09:31.414Z"
   },
   {
    "duration": 18,
    "start_time": "2022-10-04T14:09:31.433Z"
   },
   {
    "duration": 8,
    "start_time": "2022-10-04T14:09:31.453Z"
   },
   {
    "duration": 43109,
    "start_time": "2022-10-04T14:09:31.500Z"
   },
   {
    "duration": 252,
    "start_time": "2022-10-04T14:10:14.611Z"
   },
   {
    "duration": 164,
    "start_time": "2022-10-04T14:10:14.866Z"
   },
   {
    "duration": 12,
    "start_time": "2022-10-04T14:10:15.032Z"
   },
   {
    "duration": 138,
    "start_time": "2022-10-04T14:10:15.048Z"
   },
   {
    "duration": 19,
    "start_time": "2022-10-04T14:10:15.188Z"
   },
   {
    "duration": 5,
    "start_time": "2022-10-04T14:10:15.208Z"
   },
   {
    "duration": 14,
    "start_time": "2022-10-04T14:10:15.214Z"
   },
   {
    "duration": 302,
    "start_time": "2022-10-04T14:10:15.229Z"
   },
   {
    "duration": 188,
    "start_time": "2022-10-04T14:10:15.533Z"
   },
   {
    "duration": 9,
    "start_time": "2022-10-04T14:10:15.723Z"
   },
   {
    "duration": 4,
    "start_time": "2022-10-04T14:10:15.733Z"
   },
   {
    "duration": 8,
    "start_time": "2022-10-04T14:10:15.739Z"
   },
   {
    "duration": 6,
    "start_time": "2022-10-04T14:10:15.749Z"
   },
   {
    "duration": 7,
    "start_time": "2022-10-04T14:10:15.757Z"
   },
   {
    "duration": 42,
    "start_time": "2022-10-04T14:10:15.765Z"
   },
   {
    "duration": 4,
    "start_time": "2022-10-04T14:10:15.808Z"
   },
   {
    "duration": 55,
    "start_time": "2022-10-04T14:10:15.813Z"
   },
   {
    "duration": 6,
    "start_time": "2022-10-04T14:10:15.870Z"
   },
   {
    "duration": 32,
    "start_time": "2022-10-04T14:10:15.877Z"
   },
   {
    "duration": 8,
    "start_time": "2022-10-04T14:10:15.910Z"
   },
   {
    "duration": 34,
    "start_time": "2022-10-04T14:10:15.920Z"
   },
   {
    "duration": 160,
    "start_time": "2022-10-04T14:10:15.956Z"
   },
   {
    "duration": 145,
    "start_time": "2022-10-04T14:10:16.118Z"
   },
   {
    "duration": 38,
    "start_time": "2022-10-04T14:10:16.265Z"
   },
   {
    "duration": 126,
    "start_time": "2022-10-04T14:10:16.304Z"
   },
   {
    "duration": 11,
    "start_time": "2022-10-04T14:10:16.431Z"
   },
   {
    "duration": 13,
    "start_time": "2022-10-04T14:10:16.444Z"
   },
   {
    "duration": 41,
    "start_time": "2022-10-04T14:10:16.459Z"
   },
   {
    "duration": 17,
    "start_time": "2022-10-04T14:10:16.503Z"
   },
   {
    "duration": 5,
    "start_time": "2022-10-04T14:10:16.522Z"
   },
   {
    "duration": 7,
    "start_time": "2022-10-04T14:10:16.529Z"
   },
   {
    "duration": 186,
    "start_time": "2022-10-04T14:10:16.538Z"
   },
   {
    "duration": 6,
    "start_time": "2022-10-04T14:10:16.725Z"
   },
   {
    "duration": 244,
    "start_time": "2022-10-04T14:10:16.732Z"
   },
   {
    "duration": 9,
    "start_time": "2022-10-04T14:10:16.977Z"
   },
   {
    "duration": 8,
    "start_time": "2022-10-04T14:10:17.001Z"
   },
   {
    "duration": 15,
    "start_time": "2022-10-04T14:10:17.011Z"
   },
   {
    "duration": 50,
    "start_time": "2022-10-04T14:10:17.027Z"
   },
   {
    "duration": 1163,
    "start_time": "2022-10-04T14:10:17.079Z"
   },
   {
    "duration": 4,
    "start_time": "2022-10-04T14:10:18.244Z"
   },
   {
    "duration": 34,
    "start_time": "2022-10-04T14:10:18.250Z"
   },
   {
    "duration": 30,
    "start_time": "2022-10-04T14:10:18.285Z"
   },
   {
    "duration": 8,
    "start_time": "2022-10-04T14:10:18.316Z"
   },
   {
    "duration": 36,
    "start_time": "2022-10-04T14:10:18.325Z"
   },
   {
    "duration": 169,
    "start_time": "2022-10-04T14:10:18.363Z"
   },
   {
    "duration": 6,
    "start_time": "2022-10-04T14:10:18.534Z"
   },
   {
    "duration": 11,
    "start_time": "2022-10-04T14:10:18.543Z"
   },
   {
    "duration": 6,
    "start_time": "2022-10-04T14:10:18.556Z"
   },
   {
    "duration": 6,
    "start_time": "2022-10-04T14:10:18.564Z"
   },
   {
    "duration": 32,
    "start_time": "2022-10-04T14:10:18.571Z"
   },
   {
    "duration": 6,
    "start_time": "2022-10-04T14:10:18.605Z"
   },
   {
    "duration": 12851,
    "start_time": "2022-10-04T14:10:18.613Z"
   },
   {
    "duration": 6,
    "start_time": "2022-10-04T14:10:31.466Z"
   },
   {
    "duration": 31,
    "start_time": "2022-10-04T14:10:31.474Z"
   },
   {
    "duration": 599,
    "start_time": "2022-10-04T14:10:31.508Z"
   },
   {
    "duration": 4,
    "start_time": "2022-10-04T14:10:32.109Z"
   },
   {
    "duration": 10,
    "start_time": "2022-10-04T14:10:32.201Z"
   },
   {
    "duration": 22,
    "start_time": "2022-10-04T14:10:32.216Z"
   },
   {
    "duration": 11,
    "start_time": "2022-10-04T14:10:32.239Z"
   },
   {
    "duration": 16,
    "start_time": "2022-10-04T14:10:32.252Z"
   },
   {
    "duration": 312,
    "start_time": "2022-10-04T14:10:32.270Z"
   },
   {
    "duration": 20,
    "start_time": "2022-10-04T14:10:32.584Z"
   },
   {
    "duration": 5,
    "start_time": "2022-10-04T14:10:32.605Z"
   },
   {
    "duration": 9,
    "start_time": "2022-10-04T14:10:32.611Z"
   },
   {
    "duration": 7,
    "start_time": "2022-10-04T14:10:32.622Z"
   },
   {
    "duration": 18,
    "start_time": "2022-10-04T14:10:32.630Z"
   },
   {
    "duration": 4,
    "start_time": "2022-10-04T14:10:32.650Z"
   },
   {
    "duration": 9,
    "start_time": "2022-10-04T14:10:32.656Z"
   },
   {
    "duration": 7,
    "start_time": "2022-10-04T14:10:32.667Z"
   },
   {
    "duration": 1586,
    "start_time": "2022-10-05T07:41:09.790Z"
   },
   {
    "duration": 236,
    "start_time": "2022-10-05T07:41:11.378Z"
   },
   {
    "duration": 74,
    "start_time": "2022-10-05T07:41:11.616Z"
   },
   {
    "duration": 19,
    "start_time": "2022-10-05T07:41:11.693Z"
   },
   {
    "duration": 13,
    "start_time": "2022-10-05T07:41:11.713Z"
   },
   {
    "duration": 3,
    "start_time": "2022-10-05T07:41:11.728Z"
   },
   {
    "duration": 27,
    "start_time": "2022-10-05T07:41:11.733Z"
   },
   {
    "duration": 44,
    "start_time": "2022-10-05T07:41:11.762Z"
   },
   {
    "duration": 36,
    "start_time": "2022-10-05T07:41:11.807Z"
   },
   {
    "duration": 9,
    "start_time": "2022-10-05T07:41:11.846Z"
   },
   {
    "duration": 8,
    "start_time": "2022-10-05T07:41:11.857Z"
   },
   {
    "duration": 29,
    "start_time": "2022-10-05T07:41:11.866Z"
   },
   {
    "duration": 17,
    "start_time": "2022-10-05T07:41:11.897Z"
   },
   {
    "duration": 8,
    "start_time": "2022-10-05T07:41:11.916Z"
   },
   {
    "duration": 23,
    "start_time": "2022-10-05T07:41:11.925Z"
   },
   {
    "duration": 13,
    "start_time": "2022-10-05T07:41:11.950Z"
   },
   {
    "duration": 34,
    "start_time": "2022-10-05T07:41:11.965Z"
   },
   {
    "duration": 8,
    "start_time": "2022-10-05T07:41:12.001Z"
   },
   {
    "duration": 5,
    "start_time": "2022-10-05T07:41:12.010Z"
   },
   {
    "duration": 6,
    "start_time": "2022-10-05T07:41:12.017Z"
   },
   {
    "duration": 9,
    "start_time": "2022-10-05T07:41:12.024Z"
   },
   {
    "duration": 7,
    "start_time": "2022-10-05T07:41:12.034Z"
   },
   {
    "duration": 5,
    "start_time": "2022-10-05T07:41:12.043Z"
   },
   {
    "duration": 43635,
    "start_time": "2022-10-05T07:41:12.050Z"
   },
   {
    "duration": 245,
    "start_time": "2022-10-05T07:41:55.687Z"
   },
   {
    "duration": 154,
    "start_time": "2022-10-05T07:41:55.934Z"
   },
   {
    "duration": 15,
    "start_time": "2022-10-05T07:41:56.089Z"
   },
   {
    "duration": 142,
    "start_time": "2022-10-05T07:41:56.109Z"
   },
   {
    "duration": 15,
    "start_time": "2022-10-05T07:41:56.253Z"
   },
   {
    "duration": 10,
    "start_time": "2022-10-05T07:41:56.270Z"
   },
   {
    "duration": 26,
    "start_time": "2022-10-05T07:41:56.281Z"
   },
   {
    "duration": 372,
    "start_time": "2022-10-05T07:41:56.309Z"
   },
   {
    "duration": 215,
    "start_time": "2022-10-05T07:41:56.682Z"
   },
   {
    "duration": 9,
    "start_time": "2022-10-05T07:41:56.899Z"
   },
   {
    "duration": 7,
    "start_time": "2022-10-05T07:41:56.910Z"
   },
   {
    "duration": 8,
    "start_time": "2022-10-05T07:41:56.919Z"
   },
   {
    "duration": 7,
    "start_time": "2022-10-05T07:41:56.929Z"
   },
   {
    "duration": 7,
    "start_time": "2022-10-05T07:41:56.937Z"
   },
   {
    "duration": 21,
    "start_time": "2022-10-05T07:41:56.945Z"
   },
   {
    "duration": 3,
    "start_time": "2022-10-05T07:41:56.995Z"
   },
   {
    "duration": 54,
    "start_time": "2022-10-05T07:41:57.000Z"
   },
   {
    "duration": 5,
    "start_time": "2022-10-05T07:41:57.056Z"
   },
   {
    "duration": 14,
    "start_time": "2022-10-05T07:41:57.062Z"
   },
   {
    "duration": 5,
    "start_time": "2022-10-05T07:41:57.096Z"
   },
   {
    "duration": 32,
    "start_time": "2022-10-05T07:41:57.102Z"
   },
   {
    "duration": 171,
    "start_time": "2022-10-05T07:41:57.135Z"
   },
   {
    "duration": 158,
    "start_time": "2022-10-05T07:41:57.308Z"
   },
   {
    "duration": 56,
    "start_time": "2022-10-05T07:41:57.468Z"
   },
   {
    "duration": 135,
    "start_time": "2022-10-05T07:41:57.526Z"
   },
   {
    "duration": 10,
    "start_time": "2022-10-05T07:41:57.663Z"
   },
   {
    "duration": 26,
    "start_time": "2022-10-05T07:41:57.675Z"
   },
   {
    "duration": 9,
    "start_time": "2022-10-05T07:41:57.703Z"
   },
   {
    "duration": 12,
    "start_time": "2022-10-05T07:41:57.714Z"
   },
   {
    "duration": 4,
    "start_time": "2022-10-05T07:41:57.728Z"
   },
   {
    "duration": 6,
    "start_time": "2022-10-05T07:41:57.734Z"
   },
   {
    "duration": 207,
    "start_time": "2022-10-05T07:41:57.741Z"
   },
   {
    "duration": 4,
    "start_time": "2022-10-05T07:41:57.950Z"
   },
   {
    "duration": 288,
    "start_time": "2022-10-05T07:41:57.955Z"
   },
   {
    "duration": 8,
    "start_time": "2022-10-05T07:41:58.244Z"
   },
   {
    "duration": 9,
    "start_time": "2022-10-05T07:41:58.253Z"
   },
   {
    "duration": 6,
    "start_time": "2022-10-05T07:41:58.264Z"
   },
   {
    "duration": 59,
    "start_time": "2022-10-05T07:41:58.272Z"
   },
   {
    "duration": 1266,
    "start_time": "2022-10-05T07:41:58.332Z"
   },
   {
    "duration": 4,
    "start_time": "2022-10-05T07:41:59.600Z"
   },
   {
    "duration": 33,
    "start_time": "2022-10-05T07:41:59.606Z"
   },
   {
    "duration": 17,
    "start_time": "2022-10-05T07:41:59.641Z"
   },
   {
    "duration": 8,
    "start_time": "2022-10-05T07:41:59.660Z"
   },
   {
    "duration": 55,
    "start_time": "2022-10-05T07:41:59.669Z"
   },
   {
    "duration": 151,
    "start_time": "2022-10-05T07:41:59.726Z"
   },
   {
    "duration": 17,
    "start_time": "2022-10-05T07:41:59.879Z"
   },
   {
    "duration": 14,
    "start_time": "2022-10-05T07:41:59.898Z"
   },
   {
    "duration": 7,
    "start_time": "2022-10-05T07:41:59.913Z"
   },
   {
    "duration": 8,
    "start_time": "2022-10-05T07:41:59.921Z"
   },
   {
    "duration": 8,
    "start_time": "2022-10-05T07:41:59.931Z"
   },
   {
    "duration": 7,
    "start_time": "2022-10-05T07:41:59.940Z"
   },
   {
    "duration": 13230,
    "start_time": "2022-10-05T07:41:59.948Z"
   },
   {
    "duration": 4,
    "start_time": "2022-10-05T07:42:13.179Z"
   },
   {
    "duration": 16,
    "start_time": "2022-10-05T07:42:13.185Z"
   },
   {
    "duration": 493,
    "start_time": "2022-10-05T07:42:13.202Z"
   },
   {
    "duration": 4,
    "start_time": "2022-10-05T07:42:13.697Z"
   },
   {
    "duration": 103,
    "start_time": "2022-10-05T07:42:13.702Z"
   },
   {
    "duration": 14,
    "start_time": "2022-10-05T07:42:13.810Z"
   },
   {
    "duration": 7,
    "start_time": "2022-10-05T07:42:13.826Z"
   },
   {
    "duration": 9,
    "start_time": "2022-10-05T07:42:13.835Z"
   },
   {
    "duration": 300,
    "start_time": "2022-10-05T07:42:13.846Z"
   },
   {
    "duration": 12,
    "start_time": "2022-10-05T07:42:14.148Z"
   },
   {
    "duration": 6,
    "start_time": "2022-10-05T07:42:14.161Z"
   },
   {
    "duration": 7,
    "start_time": "2022-10-05T07:42:14.169Z"
   },
   {
    "duration": 18,
    "start_time": "2022-10-05T07:42:14.178Z"
   },
   {
    "duration": 12,
    "start_time": "2022-10-05T07:42:14.198Z"
   },
   {
    "duration": 4,
    "start_time": "2022-10-05T07:42:14.212Z"
   },
   {
    "duration": 7,
    "start_time": "2022-10-05T07:42:14.217Z"
   },
   {
    "duration": 7,
    "start_time": "2022-10-05T07:42:14.225Z"
   },
   {
    "duration": 11,
    "start_time": "2022-10-05T08:10:01.173Z"
   },
   {
    "duration": 12,
    "start_time": "2022-10-05T08:10:07.144Z"
   },
   {
    "duration": 13,
    "start_time": "2022-10-05T08:12:09.282Z"
   },
   {
    "duration": 15,
    "start_time": "2022-10-05T08:12:51.895Z"
   },
   {
    "duration": 177,
    "start_time": "2022-10-05T08:15:03.944Z"
   },
   {
    "duration": 207,
    "start_time": "2022-10-05T08:16:52.051Z"
   },
   {
    "duration": 209,
    "start_time": "2022-10-05T08:18:06.535Z"
   },
   {
    "duration": 191,
    "start_time": "2022-10-05T08:18:41.952Z"
   },
   {
    "duration": 149,
    "start_time": "2022-10-05T08:19:15.819Z"
   },
   {
    "duration": 180,
    "start_time": "2022-10-05T08:19:46.708Z"
   },
   {
    "duration": 215,
    "start_time": "2022-10-05T08:20:15.295Z"
   },
   {
    "duration": 122,
    "start_time": "2022-10-05T08:20:29.448Z"
   },
   {
    "duration": 118,
    "start_time": "2022-10-05T08:20:57.126Z"
   },
   {
    "duration": 116,
    "start_time": "2022-10-05T08:21:01.358Z"
   },
   {
    "duration": 134,
    "start_time": "2022-10-05T08:21:14.691Z"
   },
   {
    "duration": 183,
    "start_time": "2022-10-05T08:24:06.445Z"
   },
   {
    "duration": 167,
    "start_time": "2022-10-05T08:24:11.442Z"
   },
   {
    "duration": 9,
    "start_time": "2022-10-05T08:26:46.872Z"
   },
   {
    "duration": 8,
    "start_time": "2022-10-05T08:28:17.754Z"
   },
   {
    "duration": 8,
    "start_time": "2022-10-05T09:21:48.196Z"
   },
   {
    "duration": 6,
    "start_time": "2022-10-05T09:22:08.410Z"
   },
   {
    "duration": 6,
    "start_time": "2022-10-05T09:22:14.079Z"
   },
   {
    "duration": 7,
    "start_time": "2022-10-05T09:22:49.056Z"
   },
   {
    "duration": 6,
    "start_time": "2022-10-05T09:22:56.179Z"
   },
   {
    "duration": 9,
    "start_time": "2022-10-05T09:23:00.693Z"
   },
   {
    "duration": 8,
    "start_time": "2022-10-05T09:23:01.256Z"
   },
   {
    "duration": 392,
    "start_time": "2022-10-05T09:23:31.286Z"
   },
   {
    "duration": 16,
    "start_time": "2022-10-05T09:24:44.214Z"
   },
   {
    "duration": 315,
    "start_time": "2022-10-05T09:25:00.939Z"
   },
   {
    "duration": 7,
    "start_time": "2022-10-05T09:25:08.771Z"
   },
   {
    "duration": 7,
    "start_time": "2022-10-05T09:27:26.512Z"
   },
   {
    "duration": 6,
    "start_time": "2022-10-05T09:27:36.603Z"
   },
   {
    "duration": 8,
    "start_time": "2022-10-05T09:27:48.081Z"
   }
  ],
  "kernelspec": {
   "display_name": "Python 3 (ipykernel)",
   "language": "python",
   "name": "python3"
  },
  "language_info": {
   "codemirror_mode": {
    "name": "ipython",
    "version": 3
   },
   "file_extension": ".py",
   "mimetype": "text/x-python",
   "name": "python",
   "nbconvert_exporter": "python",
   "pygments_lexer": "ipython3",
   "version": "3.9.7"
  },
  "toc": {
   "base_numbering": 1,
   "nav_menu": {},
   "number_sections": true,
   "sideBar": true,
   "skip_h1_title": false,
   "title_cell": "Table of Contents",
   "title_sidebar": "Contents",
   "toc_cell": false,
   "toc_position": {
    "height": "calc(100% - 180px)",
    "left": "10px",
    "top": "150px",
    "width": "304.3px"
   },
   "toc_section_display": true,
   "toc_window_display": true
  }
 },
 "nbformat": 4,
 "nbformat_minor": 5
}
